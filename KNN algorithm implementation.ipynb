{
  "nbformat": 4,
  "nbformat_minor": 0,
  "metadata": {
    "colab": {
      "provenance": [],
      "collapsed_sections": [
        "b8t_o5WpVuyX",
        "KjmWWGfoKaKB",
        "QA2WEN1N2bL3",
        "vFfZ2cz7nSji",
        "gUfhak6XA0PR",
        "fxDPmtByshIE"
      ]
    },
    "kernelspec": {
      "name": "python3",
      "display_name": "Python 3"
    },
    "language_info": {
      "name": "python"
    }
  },
  "cells": [
    {
      "cell_type": "markdown",
      "source": [
        "##**Assignment 3**\n",
        "\n",
        "Name: Hazel Mbambo\n",
        "\n",
        "DTSC 680 Mushroom Classifier\n",
        "\n"
      ],
      "metadata": {
        "id": "8XcqGSN50Bxw"
      }
    },
    {
      "cell_type": "markdown",
      "source": [
        "Overview:\n",
        "The purpose of this assignment is for you to gain experience with the KNN and PCA\n",
        "algorithms, as well as to assess your ability to construct a well-organized and\n",
        "well-documented notebook. In this assignment you will not receive a notebook template.\n",
        "Upon submission, be sure that your notebook is well documented - this is required for\n",
        "code development and collaboration in industry, and is needed for grading your work.\n",
        "You will be heavily graded on the clarity of your notebook. How easy is it to understand\n",
        "the meaning of your computations? Do the names of your variables clearly\n",
        "communicate their meaning? Is your notebook documented completely?\n",
        "Document/Comment your code so that someone who didn’t know about your\n",
        "assignment would be able to follow what you were doing every step of the way."
      ],
      "metadata": {
        "id": "ti9YiTiyFhie"
      }
    },
    {
      "cell_type": "markdown",
      "source": [
        "####**Preliminaries**\n",
        "Let's import some common packages:"
      ],
      "metadata": {
        "id": "dXCix23Lz6r3"
      }
    },
    {
      "cell_type": "code",
      "source": [
        "# Common imports\n",
        "import matplotlib.pyplot as plt\n",
        "import matplotlib as mpl\n",
        "from matplotlib import cm\n",
        "import numpy as np\n",
        "import pandas as pd\n",
        "%matplotlib inline\n",
        "mpl.rc('axes', labelsize=14)\n",
        "mpl.rc('xtick', labelsize=12)\n",
        "mpl.rc('ytick', labelsize=12)\n",
        "import os\n",
        "\n",
        "#encoder\n",
        "from sklearn.preprocessing import OneHotEncoder\n",
        "from sklearn import preprocessing"
      ],
      "metadata": {
        "id": "_zyTy9_ez38z"
      },
      "execution_count": null,
      "outputs": []
    },
    {
      "cell_type": "markdown",
      "source": [
        "####**1. Import the Mushroom data set.**"
      ],
      "metadata": {
        "id": "QxfdmAFjrUn3"
      }
    },
    {
      "cell_type": "markdown",
      "source": [
        "Getting the columns from the data set and putting the data and names together.\n",
        "\n",
        "From the readme file you can see that class is the response data. P = Poisonus and e = edible"
      ],
      "metadata": {
        "id": "j0MtwOG6BFQZ"
      }
    },
    {
      "cell_type": "code",
      "source": [
        "#column names\n",
        "names = ['class','cap-shape', 'cap-surface', 'cap-color', 'bruises?', 'odor', 'gill-attachment', 'gill-spacing', 'gill-size', 'gill-color', 'stalk-shape', 'stalk-root', 'stalk-surface-above-ring', 'stalk-surface-below-ring', 'stalk-color-above-ring', 'stalk-color-below-ring', 'veil-type', 'veil-color', 'ring-number', 'ring-type', 'spore-print-color', 'population', 'habitat'] \n"
      ],
      "metadata": {
        "id": "siE75X8P8g5W"
      },
      "execution_count": null,
      "outputs": []
    },
    {
      "cell_type": "code",
      "execution_count": null,
      "metadata": {
        "colab": {
          "base_uri": "https://localhost:8080/",
          "height": 540
        },
        "id": "ndeOPeMepx55",
        "outputId": "b0af8280-576b-4695-b5f1-fa6ed1369f51"
      },
      "outputs": [
        {
          "output_type": "execute_result",
          "data": {
            "text/plain": [
              "     class cap-shape cap-surface cap-color bruises? odor gill-attachment  \\\n",
              "0        p         x           s         n        t    p               f   \n",
              "1        e         x           s         y        t    a               f   \n",
              "2        e         b           s         w        t    l               f   \n",
              "3        p         x           y         w        t    p               f   \n",
              "4        e         x           s         g        f    n               f   \n",
              "...    ...       ...         ...       ...      ...  ...             ...   \n",
              "8119     e         k           s         n        f    n               a   \n",
              "8120     e         x           s         n        f    n               a   \n",
              "8121     e         f           s         n        f    n               a   \n",
              "8122     p         k           y         n        f    y               f   \n",
              "8123     e         x           s         n        f    n               a   \n",
              "\n",
              "     gill-spacing gill-size gill-color  ... stalk-surface-below-ring  \\\n",
              "0               c         n          k  ...                        s   \n",
              "1               c         b          k  ...                        s   \n",
              "2               c         b          n  ...                        s   \n",
              "3               c         n          n  ...                        s   \n",
              "4               w         b          k  ...                        s   \n",
              "...           ...       ...        ...  ...                      ...   \n",
              "8119            c         b          y  ...                        s   \n",
              "8120            c         b          y  ...                        s   \n",
              "8121            c         b          n  ...                        s   \n",
              "8122            c         n          b  ...                        k   \n",
              "8123            c         b          y  ...                        s   \n",
              "\n",
              "     stalk-color-above-ring stalk-color-below-ring veil-type veil-color  \\\n",
              "0                         w                      w         p          w   \n",
              "1                         w                      w         p          w   \n",
              "2                         w                      w         p          w   \n",
              "3                         w                      w         p          w   \n",
              "4                         w                      w         p          w   \n",
              "...                     ...                    ...       ...        ...   \n",
              "8119                      o                      o         p          o   \n",
              "8120                      o                      o         p          n   \n",
              "8121                      o                      o         p          o   \n",
              "8122                      w                      w         p          w   \n",
              "8123                      o                      o         p          o   \n",
              "\n",
              "     ring-number ring-type spore-print-color population habitat  \n",
              "0              o         p                 k          s       u  \n",
              "1              o         p                 n          n       g  \n",
              "2              o         p                 n          n       m  \n",
              "3              o         p                 k          s       u  \n",
              "4              o         e                 n          a       g  \n",
              "...          ...       ...               ...        ...     ...  \n",
              "8119           o         p                 b          c       l  \n",
              "8120           o         p                 b          v       l  \n",
              "8121           o         p                 b          c       l  \n",
              "8122           o         e                 w          v       l  \n",
              "8123           o         p                 o          c       l  \n",
              "\n",
              "[8124 rows x 23 columns]"
            ],
            "text/html": [
              "\n",
              "  <div id=\"df-74a9cce7-2f4c-4600-8b87-4dbb99c06a99\">\n",
              "    <div class=\"colab-df-container\">\n",
              "      <div>\n",
              "<style scoped>\n",
              "    .dataframe tbody tr th:only-of-type {\n",
              "        vertical-align: middle;\n",
              "    }\n",
              "\n",
              "    .dataframe tbody tr th {\n",
              "        vertical-align: top;\n",
              "    }\n",
              "\n",
              "    .dataframe thead th {\n",
              "        text-align: right;\n",
              "    }\n",
              "</style>\n",
              "<table border=\"1\" class=\"dataframe\">\n",
              "  <thead>\n",
              "    <tr style=\"text-align: right;\">\n",
              "      <th></th>\n",
              "      <th>class</th>\n",
              "      <th>cap-shape</th>\n",
              "      <th>cap-surface</th>\n",
              "      <th>cap-color</th>\n",
              "      <th>bruises?</th>\n",
              "      <th>odor</th>\n",
              "      <th>gill-attachment</th>\n",
              "      <th>gill-spacing</th>\n",
              "      <th>gill-size</th>\n",
              "      <th>gill-color</th>\n",
              "      <th>...</th>\n",
              "      <th>stalk-surface-below-ring</th>\n",
              "      <th>stalk-color-above-ring</th>\n",
              "      <th>stalk-color-below-ring</th>\n",
              "      <th>veil-type</th>\n",
              "      <th>veil-color</th>\n",
              "      <th>ring-number</th>\n",
              "      <th>ring-type</th>\n",
              "      <th>spore-print-color</th>\n",
              "      <th>population</th>\n",
              "      <th>habitat</th>\n",
              "    </tr>\n",
              "  </thead>\n",
              "  <tbody>\n",
              "    <tr>\n",
              "      <th>0</th>\n",
              "      <td>p</td>\n",
              "      <td>x</td>\n",
              "      <td>s</td>\n",
              "      <td>n</td>\n",
              "      <td>t</td>\n",
              "      <td>p</td>\n",
              "      <td>f</td>\n",
              "      <td>c</td>\n",
              "      <td>n</td>\n",
              "      <td>k</td>\n",
              "      <td>...</td>\n",
              "      <td>s</td>\n",
              "      <td>w</td>\n",
              "      <td>w</td>\n",
              "      <td>p</td>\n",
              "      <td>w</td>\n",
              "      <td>o</td>\n",
              "      <td>p</td>\n",
              "      <td>k</td>\n",
              "      <td>s</td>\n",
              "      <td>u</td>\n",
              "    </tr>\n",
              "    <tr>\n",
              "      <th>1</th>\n",
              "      <td>e</td>\n",
              "      <td>x</td>\n",
              "      <td>s</td>\n",
              "      <td>y</td>\n",
              "      <td>t</td>\n",
              "      <td>a</td>\n",
              "      <td>f</td>\n",
              "      <td>c</td>\n",
              "      <td>b</td>\n",
              "      <td>k</td>\n",
              "      <td>...</td>\n",
              "      <td>s</td>\n",
              "      <td>w</td>\n",
              "      <td>w</td>\n",
              "      <td>p</td>\n",
              "      <td>w</td>\n",
              "      <td>o</td>\n",
              "      <td>p</td>\n",
              "      <td>n</td>\n",
              "      <td>n</td>\n",
              "      <td>g</td>\n",
              "    </tr>\n",
              "    <tr>\n",
              "      <th>2</th>\n",
              "      <td>e</td>\n",
              "      <td>b</td>\n",
              "      <td>s</td>\n",
              "      <td>w</td>\n",
              "      <td>t</td>\n",
              "      <td>l</td>\n",
              "      <td>f</td>\n",
              "      <td>c</td>\n",
              "      <td>b</td>\n",
              "      <td>n</td>\n",
              "      <td>...</td>\n",
              "      <td>s</td>\n",
              "      <td>w</td>\n",
              "      <td>w</td>\n",
              "      <td>p</td>\n",
              "      <td>w</td>\n",
              "      <td>o</td>\n",
              "      <td>p</td>\n",
              "      <td>n</td>\n",
              "      <td>n</td>\n",
              "      <td>m</td>\n",
              "    </tr>\n",
              "    <tr>\n",
              "      <th>3</th>\n",
              "      <td>p</td>\n",
              "      <td>x</td>\n",
              "      <td>y</td>\n",
              "      <td>w</td>\n",
              "      <td>t</td>\n",
              "      <td>p</td>\n",
              "      <td>f</td>\n",
              "      <td>c</td>\n",
              "      <td>n</td>\n",
              "      <td>n</td>\n",
              "      <td>...</td>\n",
              "      <td>s</td>\n",
              "      <td>w</td>\n",
              "      <td>w</td>\n",
              "      <td>p</td>\n",
              "      <td>w</td>\n",
              "      <td>o</td>\n",
              "      <td>p</td>\n",
              "      <td>k</td>\n",
              "      <td>s</td>\n",
              "      <td>u</td>\n",
              "    </tr>\n",
              "    <tr>\n",
              "      <th>4</th>\n",
              "      <td>e</td>\n",
              "      <td>x</td>\n",
              "      <td>s</td>\n",
              "      <td>g</td>\n",
              "      <td>f</td>\n",
              "      <td>n</td>\n",
              "      <td>f</td>\n",
              "      <td>w</td>\n",
              "      <td>b</td>\n",
              "      <td>k</td>\n",
              "      <td>...</td>\n",
              "      <td>s</td>\n",
              "      <td>w</td>\n",
              "      <td>w</td>\n",
              "      <td>p</td>\n",
              "      <td>w</td>\n",
              "      <td>o</td>\n",
              "      <td>e</td>\n",
              "      <td>n</td>\n",
              "      <td>a</td>\n",
              "      <td>g</td>\n",
              "    </tr>\n",
              "    <tr>\n",
              "      <th>...</th>\n",
              "      <td>...</td>\n",
              "      <td>...</td>\n",
              "      <td>...</td>\n",
              "      <td>...</td>\n",
              "      <td>...</td>\n",
              "      <td>...</td>\n",
              "      <td>...</td>\n",
              "      <td>...</td>\n",
              "      <td>...</td>\n",
              "      <td>...</td>\n",
              "      <td>...</td>\n",
              "      <td>...</td>\n",
              "      <td>...</td>\n",
              "      <td>...</td>\n",
              "      <td>...</td>\n",
              "      <td>...</td>\n",
              "      <td>...</td>\n",
              "      <td>...</td>\n",
              "      <td>...</td>\n",
              "      <td>...</td>\n",
              "      <td>...</td>\n",
              "    </tr>\n",
              "    <tr>\n",
              "      <th>8119</th>\n",
              "      <td>e</td>\n",
              "      <td>k</td>\n",
              "      <td>s</td>\n",
              "      <td>n</td>\n",
              "      <td>f</td>\n",
              "      <td>n</td>\n",
              "      <td>a</td>\n",
              "      <td>c</td>\n",
              "      <td>b</td>\n",
              "      <td>y</td>\n",
              "      <td>...</td>\n",
              "      <td>s</td>\n",
              "      <td>o</td>\n",
              "      <td>o</td>\n",
              "      <td>p</td>\n",
              "      <td>o</td>\n",
              "      <td>o</td>\n",
              "      <td>p</td>\n",
              "      <td>b</td>\n",
              "      <td>c</td>\n",
              "      <td>l</td>\n",
              "    </tr>\n",
              "    <tr>\n",
              "      <th>8120</th>\n",
              "      <td>e</td>\n",
              "      <td>x</td>\n",
              "      <td>s</td>\n",
              "      <td>n</td>\n",
              "      <td>f</td>\n",
              "      <td>n</td>\n",
              "      <td>a</td>\n",
              "      <td>c</td>\n",
              "      <td>b</td>\n",
              "      <td>y</td>\n",
              "      <td>...</td>\n",
              "      <td>s</td>\n",
              "      <td>o</td>\n",
              "      <td>o</td>\n",
              "      <td>p</td>\n",
              "      <td>n</td>\n",
              "      <td>o</td>\n",
              "      <td>p</td>\n",
              "      <td>b</td>\n",
              "      <td>v</td>\n",
              "      <td>l</td>\n",
              "    </tr>\n",
              "    <tr>\n",
              "      <th>8121</th>\n",
              "      <td>e</td>\n",
              "      <td>f</td>\n",
              "      <td>s</td>\n",
              "      <td>n</td>\n",
              "      <td>f</td>\n",
              "      <td>n</td>\n",
              "      <td>a</td>\n",
              "      <td>c</td>\n",
              "      <td>b</td>\n",
              "      <td>n</td>\n",
              "      <td>...</td>\n",
              "      <td>s</td>\n",
              "      <td>o</td>\n",
              "      <td>o</td>\n",
              "      <td>p</td>\n",
              "      <td>o</td>\n",
              "      <td>o</td>\n",
              "      <td>p</td>\n",
              "      <td>b</td>\n",
              "      <td>c</td>\n",
              "      <td>l</td>\n",
              "    </tr>\n",
              "    <tr>\n",
              "      <th>8122</th>\n",
              "      <td>p</td>\n",
              "      <td>k</td>\n",
              "      <td>y</td>\n",
              "      <td>n</td>\n",
              "      <td>f</td>\n",
              "      <td>y</td>\n",
              "      <td>f</td>\n",
              "      <td>c</td>\n",
              "      <td>n</td>\n",
              "      <td>b</td>\n",
              "      <td>...</td>\n",
              "      <td>k</td>\n",
              "      <td>w</td>\n",
              "      <td>w</td>\n",
              "      <td>p</td>\n",
              "      <td>w</td>\n",
              "      <td>o</td>\n",
              "      <td>e</td>\n",
              "      <td>w</td>\n",
              "      <td>v</td>\n",
              "      <td>l</td>\n",
              "    </tr>\n",
              "    <tr>\n",
              "      <th>8123</th>\n",
              "      <td>e</td>\n",
              "      <td>x</td>\n",
              "      <td>s</td>\n",
              "      <td>n</td>\n",
              "      <td>f</td>\n",
              "      <td>n</td>\n",
              "      <td>a</td>\n",
              "      <td>c</td>\n",
              "      <td>b</td>\n",
              "      <td>y</td>\n",
              "      <td>...</td>\n",
              "      <td>s</td>\n",
              "      <td>o</td>\n",
              "      <td>o</td>\n",
              "      <td>p</td>\n",
              "      <td>o</td>\n",
              "      <td>o</td>\n",
              "      <td>p</td>\n",
              "      <td>o</td>\n",
              "      <td>c</td>\n",
              "      <td>l</td>\n",
              "    </tr>\n",
              "  </tbody>\n",
              "</table>\n",
              "<p>8124 rows × 23 columns</p>\n",
              "</div>\n",
              "      <button class=\"colab-df-convert\" onclick=\"convertToInteractive('df-74a9cce7-2f4c-4600-8b87-4dbb99c06a99')\"\n",
              "              title=\"Convert this dataframe to an interactive table.\"\n",
              "              style=\"display:none;\">\n",
              "        \n",
              "  <svg xmlns=\"http://www.w3.org/2000/svg\" height=\"24px\"viewBox=\"0 0 24 24\"\n",
              "       width=\"24px\">\n",
              "    <path d=\"M0 0h24v24H0V0z\" fill=\"none\"/>\n",
              "    <path d=\"M18.56 5.44l.94 2.06.94-2.06 2.06-.94-2.06-.94-.94-2.06-.94 2.06-2.06.94zm-11 1L8.5 8.5l.94-2.06 2.06-.94-2.06-.94L8.5 2.5l-.94 2.06-2.06.94zm10 10l.94 2.06.94-2.06 2.06-.94-2.06-.94-.94-2.06-.94 2.06-2.06.94z\"/><path d=\"M17.41 7.96l-1.37-1.37c-.4-.4-.92-.59-1.43-.59-.52 0-1.04.2-1.43.59L10.3 9.45l-7.72 7.72c-.78.78-.78 2.05 0 2.83L4 21.41c.39.39.9.59 1.41.59.51 0 1.02-.2 1.41-.59l7.78-7.78 2.81-2.81c.8-.78.8-2.07 0-2.86zM5.41 20L4 18.59l7.72-7.72 1.47 1.35L5.41 20z\"/>\n",
              "  </svg>\n",
              "      </button>\n",
              "      \n",
              "  <style>\n",
              "    .colab-df-container {\n",
              "      display:flex;\n",
              "      flex-wrap:wrap;\n",
              "      gap: 12px;\n",
              "    }\n",
              "\n",
              "    .colab-df-convert {\n",
              "      background-color: #E8F0FE;\n",
              "      border: none;\n",
              "      border-radius: 50%;\n",
              "      cursor: pointer;\n",
              "      display: none;\n",
              "      fill: #1967D2;\n",
              "      height: 32px;\n",
              "      padding: 0 0 0 0;\n",
              "      width: 32px;\n",
              "    }\n",
              "\n",
              "    .colab-df-convert:hover {\n",
              "      background-color: #E2EBFA;\n",
              "      box-shadow: 0px 1px 2px rgba(60, 64, 67, 0.3), 0px 1px 3px 1px rgba(60, 64, 67, 0.15);\n",
              "      fill: #174EA6;\n",
              "    }\n",
              "\n",
              "    [theme=dark] .colab-df-convert {\n",
              "      background-color: #3B4455;\n",
              "      fill: #D2E3FC;\n",
              "    }\n",
              "\n",
              "    [theme=dark] .colab-df-convert:hover {\n",
              "      background-color: #434B5C;\n",
              "      box-shadow: 0px 1px 3px 1px rgba(0, 0, 0, 0.15);\n",
              "      filter: drop-shadow(0px 1px 2px rgba(0, 0, 0, 0.3));\n",
              "      fill: #FFFFFF;\n",
              "    }\n",
              "  </style>\n",
              "\n",
              "      <script>\n",
              "        const buttonEl =\n",
              "          document.querySelector('#df-74a9cce7-2f4c-4600-8b87-4dbb99c06a99 button.colab-df-convert');\n",
              "        buttonEl.style.display =\n",
              "          google.colab.kernel.accessAllowed ? 'block' : 'none';\n",
              "\n",
              "        async function convertToInteractive(key) {\n",
              "          const element = document.querySelector('#df-74a9cce7-2f4c-4600-8b87-4dbb99c06a99');\n",
              "          const dataTable =\n",
              "            await google.colab.kernel.invokeFunction('convertToInteractive',\n",
              "                                                     [key], {});\n",
              "          if (!dataTable) return;\n",
              "\n",
              "          const docLinkHtml = 'Like what you see? Visit the ' +\n",
              "            '<a target=\"_blank\" href=https://colab.research.google.com/notebooks/data_table.ipynb>data table notebook</a>'\n",
              "            + ' to learn more about interactive tables.';\n",
              "          element.innerHTML = '';\n",
              "          dataTable['output_type'] = 'display_data';\n",
              "          await google.colab.output.renderOutput(dataTable, element);\n",
              "          const docLink = document.createElement('div');\n",
              "          docLink.innerHTML = docLinkHtml;\n",
              "          element.appendChild(docLink);\n",
              "        }\n",
              "      </script>\n",
              "    </div>\n",
              "  </div>\n",
              "  "
            ]
          },
          "metadata": {},
          "execution_count": 233
        }
      ],
      "source": [
        "#import data\n",
        "data = pd.read_csv(\"agaricus-lepiota.data\", names=names)\n",
        "\n",
        "#View data\n",
        "data"
      ]
    },
    {
      "cell_type": "code",
      "source": [
        "#one-hot encoding before splitting features and response ?"
      ],
      "metadata": {
        "id": "P2uqRmPYxc1W"
      },
      "execution_count": null,
      "outputs": []
    },
    {
      "cell_type": "markdown",
      "source": [
        "####**2. Use the KNN algorithm to impute missing values in the dataset.** \n",
        "\n",
        "The first step is to think through what will be our feature data and what will be our\n",
        "response data for this imputation step. Concluded that because stalk-root is the only one with missing rows, it is what we need to use as the response data for this imputing step"
      ],
      "metadata": {
        "id": "tiUi5N8Irvz5"
      }
    },
    {
      "cell_type": "code",
      "source": [
        "#view missing data\n",
        "data.isnull().sum().sum()"
      ],
      "metadata": {
        "id": "DWQlerPGZIBF",
        "colab": {
          "base_uri": "https://localhost:8080/"
        },
        "outputId": "5298648b-1804-49f0-cd8e-ad38b14dc562"
      },
      "execution_count": null,
      "outputs": [
        {
          "output_type": "execute_result",
          "data": {
            "text/plain": [
              "0"
            ]
          },
          "metadata": {},
          "execution_count": 235
        }
      ]
    },
    {
      "cell_type": "code",
      "source": [
        "#There should be missing data per: Missing Attribute Values: 2480 of them (denoted by \"?\"), all for attribute #11./(11. stalk-root:  )\n",
        "#Converting '?' to NaN\n",
        "df = data.replace('?',np.NaN)"
      ],
      "metadata": {
        "id": "cL0C4vQnr5IH"
      },
      "execution_count": null,
      "outputs": []
    },
    {
      "cell_type": "code",
      "source": [
        "#checking if missing values equal 2480\n",
        "df.isnull().sum().sum()"
      ],
      "metadata": {
        "id": "4ANOsMZWacVB",
        "colab": {
          "base_uri": "https://localhost:8080/"
        },
        "outputId": "694c6402-0837-418e-a71d-9b9d628f03e1"
      },
      "execution_count": null,
      "outputs": [
        {
          "output_type": "execute_result",
          "data": {
            "text/plain": [
              "2480"
            ]
          },
          "metadata": {},
          "execution_count": 237
        }
      ]
    },
    {
      "cell_type": "code",
      "source": [
        "#Spliting those with missing data from the features\n",
        "data_no_na = data[data['stalk-root']!='?'] \n",
        "data_na = data[data['stalk-root']=='?'] "
      ],
      "metadata": {
        "id": "2XLzoHl-PleE"
      },
      "execution_count": null,
      "outputs": []
    },
    {
      "cell_type": "markdown",
      "source": [
        "####**Encoding** "
      ],
      "metadata": {
        "id": "tn-lNH43RuJA"
      }
    },
    {
      "cell_type": "markdown",
      "source": [
        "Found code on stackover flow that seems to help us with this as it was giving me trouble. The columns_enc will be used a few steps below to relable the data"
      ],
      "metadata": {
        "id": "IrFeHk5oCEgh"
      }
    },
    {
      "cell_type": "code",
      "source": [
        "#columns we will need \n",
        "columns_enc=['cap-shape','cap-surface','cap-color','bruises?',\n",
        "           'odor','gill-attachment','gill-spacing','gill-size','gill-color',\n",
        "          'stalk-shape','stalk-surface-above-ring','stalk-surface-below-ring',\n",
        "          'stalk-color-above-ring','stalk-color-below-ring','veil-type','veil-color',\n",
        "          'ring-number','ring-type','spore-print-color','population','habitat']"
      ],
      "metadata": {
        "id": "ZKR5cNCwSVPO"
      },
      "execution_count": null,
      "outputs": []
    },
    {
      "cell_type": "code",
      "source": [
        "le1 = preprocessing.LabelEncoder()\n",
        "le2 = preprocessing.LabelEncoder()\n",
        "\n",
        "le1.fit(data_no_na['class']) \n",
        "le2.fit(data_no_na['stalk-root']) \n",
        "\n"
      ],
      "metadata": {
        "colab": {
          "base_uri": "https://localhost:8080/"
        },
        "id": "_nJqPKoLRsnL",
        "outputId": "21f4b1a7-9ac9-411c-9dc4-b55270124b14"
      },
      "execution_count": null,
      "outputs": [
        {
          "output_type": "execute_result",
          "data": {
            "text/plain": [
              "LabelEncoder()"
            ]
          },
          "metadata": {},
          "execution_count": 240
        }
      ]
    },
    {
      "cell_type": "code",
      "source": [
        "# encoding with One Hot encoding except response data\n",
        "#X = data_One_hot_encoded\n",
        "data_hot_enc = pd.get_dummies(data_no_na,columns=columns_enc)\n",
        "# class is a output lebel, we need to encode it with labelencoder\n",
        "data_hot_enc['class'] = le1.transform(data_no_na['class'])\n"
      ],
      "metadata": {
        "id": "6EQn0Qn8SeB7"
      },
      "execution_count": null,
      "outputs": []
    },
    {
      "cell_type": "code",
      "source": [
        "# all the missing values are in attribute stalk-root, encoding it with labelencoder\n",
        "data_hot_enc['stalk-root'] = le2.transform(data_no_na['stalk-root'])\n",
        "X = data_hot_enc.loc[:,~data_hot_enc.columns.isin(['class','stalk-root'])]\n",
        "y = data_hot_enc['stalk-root']"
      ],
      "metadata": {
        "id": "NXorM3i6S4Fo"
      },
      "execution_count": null,
      "outputs": []
    },
    {
      "cell_type": "markdown",
      "source": [
        "######**Train your KNN model on instances**\n",
        "Next, we train our KNN model on those instances that don’t have missing values, then have the model make predictions for those instances that have missing values. This is how we will have the KNN model impute missing data"
      ],
      "metadata": {
        "id": "_zxnVdwyFUPS"
      }
    },
    {
      "cell_type": "code",
      "source": [
        "#though not advissed in the assigment instructions, this was where I was trpping up and splotting this way helped \n",
        "from sklearn.model_selection import train_test_split\n",
        "X_train, X_test, y_train, y_test = train_test_split(X, y, random_state=1)\n",
        "\n",
        "\n",
        "from sklearn.neighbors import KNeighborsClassifier\n",
        "knn = KNeighborsClassifier(n_neighbors=5) "
      ],
      "metadata": {
        "id": "st4dAa1BIJu3"
      },
      "execution_count": null,
      "outputs": []
    },
    {
      "cell_type": "markdown",
      "source": [
        "######**Fitting the models**\n",
        "\n",
        "This is to predict the stalk root "
      ],
      "metadata": {
        "id": "sAA1Di1rVjkB"
      }
    },
    {
      "cell_type": "code",
      "source": [
        "knn.fit(X_train, y_train)\n",
        "\n",
        "y_pred = knn.predict(X_test)\n",
        "y_pred"
      ],
      "metadata": {
        "colab": {
          "base_uri": "https://localhost:8080/"
        },
        "id": "5tp_p7y5Vh_B",
        "outputId": "33be5b3f-02fa-4bb2-910f-03ccca2765dc"
      },
      "execution_count": null,
      "outputs": [
        {
          "output_type": "execute_result",
          "data": {
            "text/plain": [
              "array([0, 2, 2, ..., 0, 0, 0])"
            ]
          },
          "metadata": {},
          "execution_count": 244
        }
      ]
    },
    {
      "cell_type": "markdown",
      "source": [
        "####**Imputing the data**\n",
        "This step adds the model's predictions into the na's  dataframe, overwritting the missing values"
      ],
      "metadata": {
        "id": "b8t_o5WpVuyX"
      }
    },
    {
      "cell_type": "code",
      "source": [
        "# impute the missing values \n",
        "enc = OneHotEncoder(handle_unknown='ignore')\n",
        "data_no_na_X = data_no_na.loc[:,~data_no_na.columns.isin(['class','stalk-root'])]\n",
        "enc.fit(data_no_na_X)\n",
        "data_na_X = data_na.loc[:,~data_na.columns.isin(['class','stalk-root'])]\n",
        "X_na = enc.transform(data_na_X).toarray()\n",
        "y_na_pred = knn.predict(X_na)\n",
        "stalk_root_na=le2.inverse_transform(y_na_pred)\n",
        "data_na['stalk-root'] = stalk_root_na"
      ],
      "metadata": {
        "colab": {
          "base_uri": "https://localhost:8080/"
        },
        "id": "m9W58Ce-JkZF",
        "outputId": "22b2df26-9773-4036-d4a5-094230d74096"
      },
      "execution_count": null,
      "outputs": [
        {
          "output_type": "stream",
          "name": "stderr",
          "text": [
            "/usr/local/lib/python3.7/dist-packages/sklearn/base.py:451: UserWarning: X does not have valid feature names, but KNeighborsClassifier was fitted with feature names\n",
            "  \"X does not have valid feature names, but\"\n",
            "/usr/local/lib/python3.7/dist-packages/ipykernel_launcher.py:9: SettingWithCopyWarning: \n",
            "A value is trying to be set on a copy of a slice from a DataFrame.\n",
            "Try using .loc[row_indexer,col_indexer] = value instead\n",
            "\n",
            "See the caveats in the documentation: https://pandas.pydata.org/pandas-docs/stable/user_guide/indexing.html#returning-a-view-versus-a-copy\n",
            "  if __name__ == '__main__':\n"
          ]
        }
      ]
    },
    {
      "cell_type": "markdown",
      "source": [
        "######PRINT MISSING VALUES"
      ],
      "metadata": {
        "id": "hB_GKZEjHYDm"
      }
    },
    {
      "cell_type": "code",
      "source": [
        "stalk_root_na"
      ],
      "metadata": {
        "colab": {
          "base_uri": "https://localhost:8080/"
        },
        "id": "DOgrBHjuXuE-",
        "outputId": "c2b02391-0c45-4777-f877-75e3626f85b0"
      },
      "execution_count": null,
      "outputs": [
        {
          "output_type": "execute_result",
          "data": {
            "text/plain": [
              "array(['b', 'b', 'e', ..., 'e', 'b', 'e'], dtype=object)"
            ]
          },
          "metadata": {},
          "execution_count": 246
        }
      ]
    },
    {
      "cell_type": "code",
      "source": [
        "missing_values = data_na['stalk-root']\n",
        "print(missing_values.head(10))"
      ],
      "metadata": {
        "colab": {
          "base_uri": "https://localhost:8080/"
        },
        "id": "SPjX2bIjJt9B",
        "outputId": "b7628914-527f-4a22-a6e7-03852eb4a3e1"
      },
      "execution_count": null,
      "outputs": [
        {
          "output_type": "stream",
          "name": "stdout",
          "text": [
            "3984    b\n",
            "4023    b\n",
            "4076    e\n",
            "4100    b\n",
            "4104    b\n",
            "4196    b\n",
            "4200    b\n",
            "4283    b\n",
            "4291    b\n",
            "4326    b\n",
            "Name: stalk-root, dtype: object\n"
          ]
        }
      ]
    },
    {
      "cell_type": "code",
      "source": [
        "#making sure all null vals are imputed\n",
        "data_na.isna().any()"
      ],
      "metadata": {
        "colab": {
          "base_uri": "https://localhost:8080/"
        },
        "id": "-y0iFqVGboDo",
        "outputId": "f85bc2b3-1937-45a4-a669-4b2f6737bb3e"
      },
      "execution_count": null,
      "outputs": [
        {
          "output_type": "execute_result",
          "data": {
            "text/plain": [
              "class                       False\n",
              "cap-shape                   False\n",
              "cap-surface                 False\n",
              "cap-color                   False\n",
              "bruises?                    False\n",
              "odor                        False\n",
              "gill-attachment             False\n",
              "gill-spacing                False\n",
              "gill-size                   False\n",
              "gill-color                  False\n",
              "stalk-shape                 False\n",
              "stalk-root                  False\n",
              "stalk-surface-above-ring    False\n",
              "stalk-surface-below-ring    False\n",
              "stalk-color-above-ring      False\n",
              "stalk-color-below-ring      False\n",
              "veil-type                   False\n",
              "veil-color                  False\n",
              "ring-number                 False\n",
              "ring-type                   False\n",
              "spore-print-color           False\n",
              "population                  False\n",
              "habitat                     False\n",
              "dtype: bool"
            ]
          },
          "metadata": {},
          "execution_count": 248
        }
      ]
    },
    {
      "cell_type": "markdown",
      "source": [
        "####Putting DF back together"
      ],
      "metadata": {
        "id": "KjmWWGfoKaKB"
      }
    },
    {
      "cell_type": "code",
      "source": [
        "X_na_ohe = pd.DataFrame(X_na,columns=X.columns)\n",
        "X_na_ohe['stalk-root'] = y_na_pred\n",
        "df2 = pd.concat([X_na_ohe,data_hot_enc])\n",
        "\n",
        "df2.reset_index(drop=True,inplace=True)\n",
        "df2['stalk-root']"
      ],
      "metadata": {
        "colab": {
          "base_uri": "https://localhost:8080/"
        },
        "id": "8ORPXNN9KYf3",
        "outputId": "1eda47de-7de1-4561-98c5-32f5a6a90043"
      },
      "execution_count": null,
      "outputs": [
        {
          "output_type": "execute_result",
          "data": {
            "text/plain": [
              "0       0\n",
              "1       0\n",
              "2       2\n",
              "3       0\n",
              "4       0\n",
              "       ..\n",
              "8119    0\n",
              "8120    0\n",
              "8121    0\n",
              "8122    1\n",
              "8123    1\n",
              "Name: stalk-root, Length: 8124, dtype: int64"
            ]
          },
          "metadata": {},
          "execution_count": 249
        }
      ]
    },
    {
      "cell_type": "markdown",
      "source": [
        "##**Train a RandomForestClassifier**"
      ],
      "metadata": {
        "id": "TvYn1gUP2Pdd"
      }
    },
    {
      "cell_type": "markdown",
      "source": [
        "3. Train a RandomForestClassifier as well as a LogisticRegression model to predict\n",
        "whether a mushroom is edible or poisonous given this data set of nominally-valued\n",
        "characteristics. Train the model on the feature data supplied to you after you’ve one-hot\n",
        "encoded it. You should label encode the response data"
      ],
      "metadata": {
        "id": "XwqgN8xA2U0q"
      }
    },
    {
      "cell_type": "code",
      "source": [
        "df2"
      ],
      "metadata": {
        "colab": {
          "base_uri": "https://localhost:8080/",
          "height": 505
        },
        "id": "d_cvEFOhg26L",
        "outputId": "c1e00977-fbe2-4845-da93-5b10224b58ef"
      },
      "execution_count": null,
      "outputs": [
        {
          "output_type": "execute_result",
          "data": {
            "text/plain": [
              "      cap-shape_b  cap-shape_c  cap-shape_f  cap-shape_k  cap-shape_s  \\\n",
              "0             0.0          0.0          0.0          0.0          0.0   \n",
              "1             0.0          0.0          0.0          0.0          0.0   \n",
              "2             0.0          0.0          1.0          0.0          0.0   \n",
              "3             0.0          0.0          0.0          0.0          0.0   \n",
              "4             0.0          0.0          0.0          0.0          0.0   \n",
              "...           ...          ...          ...          ...          ...   \n",
              "8119          1.0          0.0          0.0          0.0          0.0   \n",
              "8120          0.0          0.0          0.0          0.0          0.0   \n",
              "8121          0.0          0.0          0.0          0.0          0.0   \n",
              "8122          0.0          0.0          0.0          0.0          0.0   \n",
              "8123          0.0          0.0          1.0          0.0          0.0   \n",
              "\n",
              "      cap-shape_x  cap-surface_f  cap-surface_g  cap-surface_s  cap-surface_y  \\\n",
              "0             1.0            0.0            0.0            0.0            1.0   \n",
              "1             1.0            0.0            0.0            0.0            1.0   \n",
              "2             0.0            0.0            0.0            0.0            1.0   \n",
              "3             1.0            0.0            0.0            0.0            1.0   \n",
              "4             1.0            0.0            0.0            0.0            1.0   \n",
              "...           ...            ...            ...            ...            ...   \n",
              "8119          0.0            0.0            0.0            0.0            1.0   \n",
              "8120          1.0            0.0            0.0            0.0            1.0   \n",
              "8121          1.0            0.0            0.0            0.0            1.0   \n",
              "8122          1.0            0.0            0.0            0.0            1.0   \n",
              "8123          0.0            0.0            0.0            0.0            1.0   \n",
              "\n",
              "      ...  population_v  population_y  habitat_d  habitat_g  habitat_l  \\\n",
              "0     ...           0.0           0.0        0.0        0.0        0.0   \n",
              "1     ...           1.0           0.0        0.0        0.0        0.0   \n",
              "2     ...           0.0           1.0        1.0        0.0        0.0   \n",
              "3     ...           1.0           0.0        1.0        0.0        0.0   \n",
              "4     ...           1.0           0.0        0.0        0.0        1.0   \n",
              "...   ...           ...           ...        ...        ...        ...   \n",
              "8119  ...           0.0           1.0        0.0        0.0        0.0   \n",
              "8120  ...           0.0           1.0        0.0        0.0        0.0   \n",
              "8121  ...           0.0           1.0        0.0        0.0        0.0   \n",
              "8122  ...           0.0           0.0        1.0        0.0        0.0   \n",
              "8123  ...           0.0           0.0        1.0        0.0        0.0   \n",
              "\n",
              "      habitat_m  habitat_p  habitat_u  stalk-root  class  \n",
              "0           0.0        0.0        0.0           0    NaN  \n",
              "1           0.0        1.0        0.0           0    NaN  \n",
              "2           0.0        0.0        0.0           2    NaN  \n",
              "3           0.0        0.0        0.0           0    NaN  \n",
              "4           0.0        0.0        0.0           0    NaN  \n",
              "...         ...        ...        ...         ...    ...  \n",
              "8119        0.0        1.0        0.0           0    0.0  \n",
              "8120        0.0        1.0        0.0           0    0.0  \n",
              "8121        0.0        1.0        0.0           0    0.0  \n",
              "8122        0.0        0.0        0.0           1    1.0  \n",
              "8123        0.0        0.0        0.0           1    1.0  \n",
              "\n",
              "[8124 rows x 96 columns]"
            ],
            "text/html": [
              "\n",
              "  <div id=\"df-849d93df-ba38-41ca-953f-46c4b5aa0e2e\">\n",
              "    <div class=\"colab-df-container\">\n",
              "      <div>\n",
              "<style scoped>\n",
              "    .dataframe tbody tr th:only-of-type {\n",
              "        vertical-align: middle;\n",
              "    }\n",
              "\n",
              "    .dataframe tbody tr th {\n",
              "        vertical-align: top;\n",
              "    }\n",
              "\n",
              "    .dataframe thead th {\n",
              "        text-align: right;\n",
              "    }\n",
              "</style>\n",
              "<table border=\"1\" class=\"dataframe\">\n",
              "  <thead>\n",
              "    <tr style=\"text-align: right;\">\n",
              "      <th></th>\n",
              "      <th>cap-shape_b</th>\n",
              "      <th>cap-shape_c</th>\n",
              "      <th>cap-shape_f</th>\n",
              "      <th>cap-shape_k</th>\n",
              "      <th>cap-shape_s</th>\n",
              "      <th>cap-shape_x</th>\n",
              "      <th>cap-surface_f</th>\n",
              "      <th>cap-surface_g</th>\n",
              "      <th>cap-surface_s</th>\n",
              "      <th>cap-surface_y</th>\n",
              "      <th>...</th>\n",
              "      <th>population_v</th>\n",
              "      <th>population_y</th>\n",
              "      <th>habitat_d</th>\n",
              "      <th>habitat_g</th>\n",
              "      <th>habitat_l</th>\n",
              "      <th>habitat_m</th>\n",
              "      <th>habitat_p</th>\n",
              "      <th>habitat_u</th>\n",
              "      <th>stalk-root</th>\n",
              "      <th>class</th>\n",
              "    </tr>\n",
              "  </thead>\n",
              "  <tbody>\n",
              "    <tr>\n",
              "      <th>0</th>\n",
              "      <td>0.0</td>\n",
              "      <td>0.0</td>\n",
              "      <td>0.0</td>\n",
              "      <td>0.0</td>\n",
              "      <td>0.0</td>\n",
              "      <td>1.0</td>\n",
              "      <td>0.0</td>\n",
              "      <td>0.0</td>\n",
              "      <td>0.0</td>\n",
              "      <td>1.0</td>\n",
              "      <td>...</td>\n",
              "      <td>0.0</td>\n",
              "      <td>0.0</td>\n",
              "      <td>0.0</td>\n",
              "      <td>0.0</td>\n",
              "      <td>0.0</td>\n",
              "      <td>0.0</td>\n",
              "      <td>0.0</td>\n",
              "      <td>0.0</td>\n",
              "      <td>0</td>\n",
              "      <td>NaN</td>\n",
              "    </tr>\n",
              "    <tr>\n",
              "      <th>1</th>\n",
              "      <td>0.0</td>\n",
              "      <td>0.0</td>\n",
              "      <td>0.0</td>\n",
              "      <td>0.0</td>\n",
              "      <td>0.0</td>\n",
              "      <td>1.0</td>\n",
              "      <td>0.0</td>\n",
              "      <td>0.0</td>\n",
              "      <td>0.0</td>\n",
              "      <td>1.0</td>\n",
              "      <td>...</td>\n",
              "      <td>1.0</td>\n",
              "      <td>0.0</td>\n",
              "      <td>0.0</td>\n",
              "      <td>0.0</td>\n",
              "      <td>0.0</td>\n",
              "      <td>0.0</td>\n",
              "      <td>1.0</td>\n",
              "      <td>0.0</td>\n",
              "      <td>0</td>\n",
              "      <td>NaN</td>\n",
              "    </tr>\n",
              "    <tr>\n",
              "      <th>2</th>\n",
              "      <td>0.0</td>\n",
              "      <td>0.0</td>\n",
              "      <td>1.0</td>\n",
              "      <td>0.0</td>\n",
              "      <td>0.0</td>\n",
              "      <td>0.0</td>\n",
              "      <td>0.0</td>\n",
              "      <td>0.0</td>\n",
              "      <td>0.0</td>\n",
              "      <td>1.0</td>\n",
              "      <td>...</td>\n",
              "      <td>0.0</td>\n",
              "      <td>1.0</td>\n",
              "      <td>1.0</td>\n",
              "      <td>0.0</td>\n",
              "      <td>0.0</td>\n",
              "      <td>0.0</td>\n",
              "      <td>0.0</td>\n",
              "      <td>0.0</td>\n",
              "      <td>2</td>\n",
              "      <td>NaN</td>\n",
              "    </tr>\n",
              "    <tr>\n",
              "      <th>3</th>\n",
              "      <td>0.0</td>\n",
              "      <td>0.0</td>\n",
              "      <td>0.0</td>\n",
              "      <td>0.0</td>\n",
              "      <td>0.0</td>\n",
              "      <td>1.0</td>\n",
              "      <td>0.0</td>\n",
              "      <td>0.0</td>\n",
              "      <td>0.0</td>\n",
              "      <td>1.0</td>\n",
              "      <td>...</td>\n",
              "      <td>1.0</td>\n",
              "      <td>0.0</td>\n",
              "      <td>1.0</td>\n",
              "      <td>0.0</td>\n",
              "      <td>0.0</td>\n",
              "      <td>0.0</td>\n",
              "      <td>0.0</td>\n",
              "      <td>0.0</td>\n",
              "      <td>0</td>\n",
              "      <td>NaN</td>\n",
              "    </tr>\n",
              "    <tr>\n",
              "      <th>4</th>\n",
              "      <td>0.0</td>\n",
              "      <td>0.0</td>\n",
              "      <td>0.0</td>\n",
              "      <td>0.0</td>\n",
              "      <td>0.0</td>\n",
              "      <td>1.0</td>\n",
              "      <td>0.0</td>\n",
              "      <td>0.0</td>\n",
              "      <td>0.0</td>\n",
              "      <td>1.0</td>\n",
              "      <td>...</td>\n",
              "      <td>1.0</td>\n",
              "      <td>0.0</td>\n",
              "      <td>0.0</td>\n",
              "      <td>0.0</td>\n",
              "      <td>1.0</td>\n",
              "      <td>0.0</td>\n",
              "      <td>0.0</td>\n",
              "      <td>0.0</td>\n",
              "      <td>0</td>\n",
              "      <td>NaN</td>\n",
              "    </tr>\n",
              "    <tr>\n",
              "      <th>...</th>\n",
              "      <td>...</td>\n",
              "      <td>...</td>\n",
              "      <td>...</td>\n",
              "      <td>...</td>\n",
              "      <td>...</td>\n",
              "      <td>...</td>\n",
              "      <td>...</td>\n",
              "      <td>...</td>\n",
              "      <td>...</td>\n",
              "      <td>...</td>\n",
              "      <td>...</td>\n",
              "      <td>...</td>\n",
              "      <td>...</td>\n",
              "      <td>...</td>\n",
              "      <td>...</td>\n",
              "      <td>...</td>\n",
              "      <td>...</td>\n",
              "      <td>...</td>\n",
              "      <td>...</td>\n",
              "      <td>...</td>\n",
              "      <td>...</td>\n",
              "    </tr>\n",
              "    <tr>\n",
              "      <th>8119</th>\n",
              "      <td>1.0</td>\n",
              "      <td>0.0</td>\n",
              "      <td>0.0</td>\n",
              "      <td>0.0</td>\n",
              "      <td>0.0</td>\n",
              "      <td>0.0</td>\n",
              "      <td>0.0</td>\n",
              "      <td>0.0</td>\n",
              "      <td>0.0</td>\n",
              "      <td>1.0</td>\n",
              "      <td>...</td>\n",
              "      <td>0.0</td>\n",
              "      <td>1.0</td>\n",
              "      <td>0.0</td>\n",
              "      <td>0.0</td>\n",
              "      <td>0.0</td>\n",
              "      <td>0.0</td>\n",
              "      <td>1.0</td>\n",
              "      <td>0.0</td>\n",
              "      <td>0</td>\n",
              "      <td>0.0</td>\n",
              "    </tr>\n",
              "    <tr>\n",
              "      <th>8120</th>\n",
              "      <td>0.0</td>\n",
              "      <td>0.0</td>\n",
              "      <td>0.0</td>\n",
              "      <td>0.0</td>\n",
              "      <td>0.0</td>\n",
              "      <td>1.0</td>\n",
              "      <td>0.0</td>\n",
              "      <td>0.0</td>\n",
              "      <td>0.0</td>\n",
              "      <td>1.0</td>\n",
              "      <td>...</td>\n",
              "      <td>0.0</td>\n",
              "      <td>1.0</td>\n",
              "      <td>0.0</td>\n",
              "      <td>0.0</td>\n",
              "      <td>0.0</td>\n",
              "      <td>0.0</td>\n",
              "      <td>1.0</td>\n",
              "      <td>0.0</td>\n",
              "      <td>0</td>\n",
              "      <td>0.0</td>\n",
              "    </tr>\n",
              "    <tr>\n",
              "      <th>8121</th>\n",
              "      <td>0.0</td>\n",
              "      <td>0.0</td>\n",
              "      <td>0.0</td>\n",
              "      <td>0.0</td>\n",
              "      <td>0.0</td>\n",
              "      <td>1.0</td>\n",
              "      <td>0.0</td>\n",
              "      <td>0.0</td>\n",
              "      <td>0.0</td>\n",
              "      <td>1.0</td>\n",
              "      <td>...</td>\n",
              "      <td>0.0</td>\n",
              "      <td>1.0</td>\n",
              "      <td>0.0</td>\n",
              "      <td>0.0</td>\n",
              "      <td>0.0</td>\n",
              "      <td>0.0</td>\n",
              "      <td>1.0</td>\n",
              "      <td>0.0</td>\n",
              "      <td>0</td>\n",
              "      <td>0.0</td>\n",
              "    </tr>\n",
              "    <tr>\n",
              "      <th>8122</th>\n",
              "      <td>0.0</td>\n",
              "      <td>0.0</td>\n",
              "      <td>0.0</td>\n",
              "      <td>0.0</td>\n",
              "      <td>0.0</td>\n",
              "      <td>1.0</td>\n",
              "      <td>0.0</td>\n",
              "      <td>0.0</td>\n",
              "      <td>0.0</td>\n",
              "      <td>1.0</td>\n",
              "      <td>...</td>\n",
              "      <td>0.0</td>\n",
              "      <td>0.0</td>\n",
              "      <td>1.0</td>\n",
              "      <td>0.0</td>\n",
              "      <td>0.0</td>\n",
              "      <td>0.0</td>\n",
              "      <td>0.0</td>\n",
              "      <td>0.0</td>\n",
              "      <td>1</td>\n",
              "      <td>1.0</td>\n",
              "    </tr>\n",
              "    <tr>\n",
              "      <th>8123</th>\n",
              "      <td>0.0</td>\n",
              "      <td>0.0</td>\n",
              "      <td>1.0</td>\n",
              "      <td>0.0</td>\n",
              "      <td>0.0</td>\n",
              "      <td>0.0</td>\n",
              "      <td>0.0</td>\n",
              "      <td>0.0</td>\n",
              "      <td>0.0</td>\n",
              "      <td>1.0</td>\n",
              "      <td>...</td>\n",
              "      <td>0.0</td>\n",
              "      <td>0.0</td>\n",
              "      <td>1.0</td>\n",
              "      <td>0.0</td>\n",
              "      <td>0.0</td>\n",
              "      <td>0.0</td>\n",
              "      <td>0.0</td>\n",
              "      <td>0.0</td>\n",
              "      <td>1</td>\n",
              "      <td>1.0</td>\n",
              "    </tr>\n",
              "  </tbody>\n",
              "</table>\n",
              "<p>8124 rows × 96 columns</p>\n",
              "</div>\n",
              "      <button class=\"colab-df-convert\" onclick=\"convertToInteractive('df-849d93df-ba38-41ca-953f-46c4b5aa0e2e')\"\n",
              "              title=\"Convert this dataframe to an interactive table.\"\n",
              "              style=\"display:none;\">\n",
              "        \n",
              "  <svg xmlns=\"http://www.w3.org/2000/svg\" height=\"24px\"viewBox=\"0 0 24 24\"\n",
              "       width=\"24px\">\n",
              "    <path d=\"M0 0h24v24H0V0z\" fill=\"none\"/>\n",
              "    <path d=\"M18.56 5.44l.94 2.06.94-2.06 2.06-.94-2.06-.94-.94-2.06-.94 2.06-2.06.94zm-11 1L8.5 8.5l.94-2.06 2.06-.94-2.06-.94L8.5 2.5l-.94 2.06-2.06.94zm10 10l.94 2.06.94-2.06 2.06-.94-2.06-.94-.94-2.06-.94 2.06-2.06.94z\"/><path d=\"M17.41 7.96l-1.37-1.37c-.4-.4-.92-.59-1.43-.59-.52 0-1.04.2-1.43.59L10.3 9.45l-7.72 7.72c-.78.78-.78 2.05 0 2.83L4 21.41c.39.39.9.59 1.41.59.51 0 1.02-.2 1.41-.59l7.78-7.78 2.81-2.81c.8-.78.8-2.07 0-2.86zM5.41 20L4 18.59l7.72-7.72 1.47 1.35L5.41 20z\"/>\n",
              "  </svg>\n",
              "      </button>\n",
              "      \n",
              "  <style>\n",
              "    .colab-df-container {\n",
              "      display:flex;\n",
              "      flex-wrap:wrap;\n",
              "      gap: 12px;\n",
              "    }\n",
              "\n",
              "    .colab-df-convert {\n",
              "      background-color: #E8F0FE;\n",
              "      border: none;\n",
              "      border-radius: 50%;\n",
              "      cursor: pointer;\n",
              "      display: none;\n",
              "      fill: #1967D2;\n",
              "      height: 32px;\n",
              "      padding: 0 0 0 0;\n",
              "      width: 32px;\n",
              "    }\n",
              "\n",
              "    .colab-df-convert:hover {\n",
              "      background-color: #E2EBFA;\n",
              "      box-shadow: 0px 1px 2px rgba(60, 64, 67, 0.3), 0px 1px 3px 1px rgba(60, 64, 67, 0.15);\n",
              "      fill: #174EA6;\n",
              "    }\n",
              "\n",
              "    [theme=dark] .colab-df-convert {\n",
              "      background-color: #3B4455;\n",
              "      fill: #D2E3FC;\n",
              "    }\n",
              "\n",
              "    [theme=dark] .colab-df-convert:hover {\n",
              "      background-color: #434B5C;\n",
              "      box-shadow: 0px 1px 3px 1px rgba(0, 0, 0, 0.15);\n",
              "      filter: drop-shadow(0px 1px 2px rgba(0, 0, 0, 0.3));\n",
              "      fill: #FFFFFF;\n",
              "    }\n",
              "  </style>\n",
              "\n",
              "      <script>\n",
              "        const buttonEl =\n",
              "          document.querySelector('#df-849d93df-ba38-41ca-953f-46c4b5aa0e2e button.colab-df-convert');\n",
              "        buttonEl.style.display =\n",
              "          google.colab.kernel.accessAllowed ? 'block' : 'none';\n",
              "\n",
              "        async function convertToInteractive(key) {\n",
              "          const element = document.querySelector('#df-849d93df-ba38-41ca-953f-46c4b5aa0e2e');\n",
              "          const dataTable =\n",
              "            await google.colab.kernel.invokeFunction('convertToInteractive',\n",
              "                                                     [key], {});\n",
              "          if (!dataTable) return;\n",
              "\n",
              "          const docLinkHtml = 'Like what you see? Visit the ' +\n",
              "            '<a target=\"_blank\" href=https://colab.research.google.com/notebooks/data_table.ipynb>data table notebook</a>'\n",
              "            + ' to learn more about interactive tables.';\n",
              "          element.innerHTML = '';\n",
              "          dataTable['output_type'] = 'display_data';\n",
              "          await google.colab.output.renderOutput(dataTable, element);\n",
              "          const docLink = document.createElement('div');\n",
              "          docLink.innerHTML = docLinkHtml;\n",
              "          element.appendChild(docLink);\n",
              "        }\n",
              "      </script>\n",
              "    </div>\n",
              "  </div>\n",
              "  "
            ]
          },
          "metadata": {},
          "execution_count": 250
        }
      ]
    },
    {
      "cell_type": "markdown",
      "source": [
        "####**Train a Random and logistic Classifiers**"
      ],
      "metadata": {
        "id": "QA2WEN1N2bL3"
      }
    },
    {
      "cell_type": "markdown",
      "source": [
        "#### **Train Test Split**\n",
        "\n",
        "To get our data split for the required models"
      ],
      "metadata": {
        "id": "vFfZ2cz7nSji"
      }
    },
    {
      "cell_type": "code",
      "source": [
        "#googled error I was recieving and the below code seems to have corrected it\n",
        "def clean_dataset(df2):\n",
        "    assert isinstance(df2, pd.DataFrame), \"df needs to be a pd.DataFrame\"\n",
        "    df2.dropna(inplace=True)\n",
        "    indices_to_keep = ~df2.isin([np.nan, np.inf, -np.inf]).any(1)\n",
        "    return df2[indices_to_keep].astype(np.float64)\n",
        "df2 = clean_dataset(df2)\n",
        "df2.reset_index(drop=True,inplace=True)\n",
        "print(len(df2))"
      ],
      "metadata": {
        "colab": {
          "base_uri": "https://localhost:8080/"
        },
        "id": "P07YtbyV7FQQ",
        "outputId": "608db6f1-d8c0-4d4f-f587-3c12a9ec17a5"
      },
      "execution_count": null,
      "outputs": [
        {
          "output_type": "stream",
          "name": "stdout",
          "text": [
            "5644\n"
          ]
        }
      ]
    },
    {
      "cell_type": "code",
      "source": [
        "# dividing the datasets into two parts i.e. training datasets and test datasets\n",
        "X,y = df2[df2.columns[:-1]],df2['class']\n",
        "# Spliting arrays or matrices into random train and test subsets\n",
        "# i.e. 70 % training dataset and 30 % test datasets\n",
        "X_train, X_test, y_train, y_test = train_test_split(X, y, test_size = 0.30,random_state=42)"
      ],
      "metadata": {
        "id": "qXsORXuv64Gg"
      },
      "execution_count": null,
      "outputs": []
    },
    {
      "cell_type": "code",
      "source": [
        "# nominally-valued characteristics? #might use if the above suggestion found online doesnt work\n",
        "# i.e. 70 % training dataset and 30 % test datasets\n",
        "#X_train, X_test, y_train, y_test = train_test_split(X, y, test_size = 0.20,random_state=42)"
      ],
      "metadata": {
        "id": "F3zkXeupdj9V"
      },
      "execution_count": null,
      "outputs": []
    },
    {
      "cell_type": "markdown",
      "source": [
        "**Fitting the randomforest**"
      ],
      "metadata": {
        "id": "FbYHMURHnvGT"
      }
    },
    {
      "cell_type": "markdown",
      "source": [
        "Accordingly, we use the default hyperparameter settings for\n",
        "both models, along with a random_state of 42 for the RandomForestClassifier."
      ],
      "metadata": {
        "id": "MjPeXvOmrjuA"
      }
    },
    {
      "cell_type": "code",
      "source": [
        "%%time\n",
        "from sklearn.ensemble import RandomForestClassifier\n",
        "\n",
        "rnd_clf = RandomForestClassifier(n_estimators = 100)\n",
        "rnd_clf.fit(X_train, y_train)\n"
      ],
      "metadata": {
        "id": "exlIzpF90JUd",
        "colab": {
          "base_uri": "https://localhost:8080/"
        },
        "outputId": "9dbdd80f-4199-46f7-e3f5-176351276f2e"
      },
      "execution_count": null,
      "outputs": [
        {
          "output_type": "stream",
          "name": "stdout",
          "text": [
            "CPU times: user 307 ms, sys: 5.67 ms, total: 313 ms\n",
            "Wall time: 320 ms\n"
          ]
        },
        {
          "output_type": "execute_result",
          "data": {
            "text/plain": [
              "RandomForestClassifier()"
            ]
          },
          "metadata": {},
          "execution_count": 254
        }
      ]
    },
    {
      "cell_type": "code",
      "source": [
        "y_pred_RF = rnd_clf.predict(X_test)"
      ],
      "metadata": {
        "id": "SMPmGuSp2kSZ"
      },
      "execution_count": null,
      "outputs": []
    },
    {
      "cell_type": "markdown",
      "source": [
        "**Pred with our model**"
      ],
      "metadata": {
        "id": "6pLrqiEmn5LY"
      }
    },
    {
      "cell_type": "markdown",
      "source": [
        "Scores:"
      ],
      "metadata": {
        "id": "hNvHSeCBv9zo"
      }
    },
    {
      "cell_type": "code",
      "source": [
        "#viewing to make sure it is hot encoded correctly as error was coming up\n",
        "X_test"
      ],
      "metadata": {
        "colab": {
          "base_uri": "https://localhost:8080/",
          "height": 505
        },
        "id": "1ACx8koS0wFd",
        "outputId": "3284ebe4-114a-4e0d-baf9-b39b95aa678b"
      },
      "execution_count": null,
      "outputs": [
        {
          "output_type": "execute_result",
          "data": {
            "text/plain": [
              "      cap-shape_b  cap-shape_c  cap-shape_f  cap-shape_k  cap-shape_s  \\\n",
              "1694          0.0          0.0          1.0          0.0          0.0   \n",
              "4434          0.0          0.0          0.0          0.0          0.0   \n",
              "3297          0.0          0.0          1.0          0.0          0.0   \n",
              "3980          0.0          0.0          1.0          0.0          0.0   \n",
              "4165          0.0          0.0          0.0          0.0          0.0   \n",
              "...           ...          ...          ...          ...          ...   \n",
              "3428          0.0          0.0          1.0          0.0          0.0   \n",
              "3576          0.0          0.0          1.0          0.0          0.0   \n",
              "1538          0.0          0.0          0.0          0.0          0.0   \n",
              "211           1.0          0.0          0.0          0.0          0.0   \n",
              "1340          0.0          0.0          0.0          0.0          0.0   \n",
              "\n",
              "      cap-shape_x  cap-surface_f  cap-surface_g  cap-surface_s  cap-surface_y  \\\n",
              "1694          0.0            0.0            0.0            1.0            0.0   \n",
              "4434          1.0            0.0            0.0            0.0            1.0   \n",
              "3297          0.0            0.0            0.0            0.0            1.0   \n",
              "3980          0.0            0.0            0.0            0.0            1.0   \n",
              "4165          1.0            0.0            0.0            1.0            0.0   \n",
              "...           ...            ...            ...            ...            ...   \n",
              "3428          0.0            0.0            0.0            0.0            1.0   \n",
              "3576          0.0            0.0            0.0            0.0            1.0   \n",
              "1538          1.0            0.0            0.0            1.0            0.0   \n",
              "211           0.0            0.0            0.0            1.0            0.0   \n",
              "1340          1.0            0.0            0.0            1.0            0.0   \n",
              "\n",
              "      ...  population_s  population_v  population_y  habitat_d  habitat_g  \\\n",
              "1694  ...           0.0           0.0           0.0        0.0        1.0   \n",
              "4434  ...           0.0           0.0           1.0        0.0        1.0   \n",
              "3297  ...           0.0           1.0           0.0        1.0        0.0   \n",
              "3980  ...           0.0           1.0           0.0        0.0        1.0   \n",
              "4165  ...           1.0           0.0           0.0        0.0        0.0   \n",
              "...   ...           ...           ...           ...        ...        ...   \n",
              "3428  ...           0.0           0.0           1.0        1.0        0.0   \n",
              "3576  ...           0.0           1.0           0.0        1.0        0.0   \n",
              "1538  ...           1.0           0.0           0.0        0.0        1.0   \n",
              "211   ...           0.0           0.0           0.0        0.0        0.0   \n",
              "1340  ...           0.0           0.0           0.0        0.0        1.0   \n",
              "\n",
              "      habitat_l  habitat_m  habitat_p  habitat_u  stalk-root  \n",
              "1694        0.0        0.0        0.0        0.0         2.0  \n",
              "4434        0.0        0.0        0.0        0.0         0.0  \n",
              "3297        0.0        0.0        0.0        0.0         0.0  \n",
              "3980        0.0        0.0        0.0        0.0         0.0  \n",
              "4165        0.0        0.0        0.0        1.0         0.0  \n",
              "...         ...        ...        ...        ...         ...  \n",
              "3428        0.0        0.0        0.0        0.0         0.0  \n",
              "3576        0.0        0.0        0.0        0.0         0.0  \n",
              "1538        0.0        0.0        0.0        0.0         2.0  \n",
              "211         0.0        1.0        0.0        0.0         1.0  \n",
              "1340        0.0        0.0        0.0        0.0         2.0  \n",
              "\n",
              "[1694 rows x 95 columns]"
            ],
            "text/html": [
              "\n",
              "  <div id=\"df-660997d0-98bc-4999-9c17-c90b5bc3789c\">\n",
              "    <div class=\"colab-df-container\">\n",
              "      <div>\n",
              "<style scoped>\n",
              "    .dataframe tbody tr th:only-of-type {\n",
              "        vertical-align: middle;\n",
              "    }\n",
              "\n",
              "    .dataframe tbody tr th {\n",
              "        vertical-align: top;\n",
              "    }\n",
              "\n",
              "    .dataframe thead th {\n",
              "        text-align: right;\n",
              "    }\n",
              "</style>\n",
              "<table border=\"1\" class=\"dataframe\">\n",
              "  <thead>\n",
              "    <tr style=\"text-align: right;\">\n",
              "      <th></th>\n",
              "      <th>cap-shape_b</th>\n",
              "      <th>cap-shape_c</th>\n",
              "      <th>cap-shape_f</th>\n",
              "      <th>cap-shape_k</th>\n",
              "      <th>cap-shape_s</th>\n",
              "      <th>cap-shape_x</th>\n",
              "      <th>cap-surface_f</th>\n",
              "      <th>cap-surface_g</th>\n",
              "      <th>cap-surface_s</th>\n",
              "      <th>cap-surface_y</th>\n",
              "      <th>...</th>\n",
              "      <th>population_s</th>\n",
              "      <th>population_v</th>\n",
              "      <th>population_y</th>\n",
              "      <th>habitat_d</th>\n",
              "      <th>habitat_g</th>\n",
              "      <th>habitat_l</th>\n",
              "      <th>habitat_m</th>\n",
              "      <th>habitat_p</th>\n",
              "      <th>habitat_u</th>\n",
              "      <th>stalk-root</th>\n",
              "    </tr>\n",
              "  </thead>\n",
              "  <tbody>\n",
              "    <tr>\n",
              "      <th>1694</th>\n",
              "      <td>0.0</td>\n",
              "      <td>0.0</td>\n",
              "      <td>1.0</td>\n",
              "      <td>0.0</td>\n",
              "      <td>0.0</td>\n",
              "      <td>0.0</td>\n",
              "      <td>0.0</td>\n",
              "      <td>0.0</td>\n",
              "      <td>1.0</td>\n",
              "      <td>0.0</td>\n",
              "      <td>...</td>\n",
              "      <td>0.0</td>\n",
              "      <td>0.0</td>\n",
              "      <td>0.0</td>\n",
              "      <td>0.0</td>\n",
              "      <td>1.0</td>\n",
              "      <td>0.0</td>\n",
              "      <td>0.0</td>\n",
              "      <td>0.0</td>\n",
              "      <td>0.0</td>\n",
              "      <td>2.0</td>\n",
              "    </tr>\n",
              "    <tr>\n",
              "      <th>4434</th>\n",
              "      <td>0.0</td>\n",
              "      <td>0.0</td>\n",
              "      <td>0.0</td>\n",
              "      <td>0.0</td>\n",
              "      <td>0.0</td>\n",
              "      <td>1.0</td>\n",
              "      <td>0.0</td>\n",
              "      <td>0.0</td>\n",
              "      <td>0.0</td>\n",
              "      <td>1.0</td>\n",
              "      <td>...</td>\n",
              "      <td>0.0</td>\n",
              "      <td>0.0</td>\n",
              "      <td>1.0</td>\n",
              "      <td>0.0</td>\n",
              "      <td>1.0</td>\n",
              "      <td>0.0</td>\n",
              "      <td>0.0</td>\n",
              "      <td>0.0</td>\n",
              "      <td>0.0</td>\n",
              "      <td>0.0</td>\n",
              "    </tr>\n",
              "    <tr>\n",
              "      <th>3297</th>\n",
              "      <td>0.0</td>\n",
              "      <td>0.0</td>\n",
              "      <td>1.0</td>\n",
              "      <td>0.0</td>\n",
              "      <td>0.0</td>\n",
              "      <td>0.0</td>\n",
              "      <td>0.0</td>\n",
              "      <td>0.0</td>\n",
              "      <td>0.0</td>\n",
              "      <td>1.0</td>\n",
              "      <td>...</td>\n",
              "      <td>0.0</td>\n",
              "      <td>1.0</td>\n",
              "      <td>0.0</td>\n",
              "      <td>1.0</td>\n",
              "      <td>0.0</td>\n",
              "      <td>0.0</td>\n",
              "      <td>0.0</td>\n",
              "      <td>0.0</td>\n",
              "      <td>0.0</td>\n",
              "      <td>0.0</td>\n",
              "    </tr>\n",
              "    <tr>\n",
              "      <th>3980</th>\n",
              "      <td>0.0</td>\n",
              "      <td>0.0</td>\n",
              "      <td>1.0</td>\n",
              "      <td>0.0</td>\n",
              "      <td>0.0</td>\n",
              "      <td>0.0</td>\n",
              "      <td>0.0</td>\n",
              "      <td>0.0</td>\n",
              "      <td>0.0</td>\n",
              "      <td>1.0</td>\n",
              "      <td>...</td>\n",
              "      <td>0.0</td>\n",
              "      <td>1.0</td>\n",
              "      <td>0.0</td>\n",
              "      <td>0.0</td>\n",
              "      <td>1.0</td>\n",
              "      <td>0.0</td>\n",
              "      <td>0.0</td>\n",
              "      <td>0.0</td>\n",
              "      <td>0.0</td>\n",
              "      <td>0.0</td>\n",
              "    </tr>\n",
              "    <tr>\n",
              "      <th>4165</th>\n",
              "      <td>0.0</td>\n",
              "      <td>0.0</td>\n",
              "      <td>0.0</td>\n",
              "      <td>0.0</td>\n",
              "      <td>0.0</td>\n",
              "      <td>1.0</td>\n",
              "      <td>0.0</td>\n",
              "      <td>0.0</td>\n",
              "      <td>1.0</td>\n",
              "      <td>0.0</td>\n",
              "      <td>...</td>\n",
              "      <td>1.0</td>\n",
              "      <td>0.0</td>\n",
              "      <td>0.0</td>\n",
              "      <td>0.0</td>\n",
              "      <td>0.0</td>\n",
              "      <td>0.0</td>\n",
              "      <td>0.0</td>\n",
              "      <td>0.0</td>\n",
              "      <td>1.0</td>\n",
              "      <td>0.0</td>\n",
              "    </tr>\n",
              "    <tr>\n",
              "      <th>...</th>\n",
              "      <td>...</td>\n",
              "      <td>...</td>\n",
              "      <td>...</td>\n",
              "      <td>...</td>\n",
              "      <td>...</td>\n",
              "      <td>...</td>\n",
              "      <td>...</td>\n",
              "      <td>...</td>\n",
              "      <td>...</td>\n",
              "      <td>...</td>\n",
              "      <td>...</td>\n",
              "      <td>...</td>\n",
              "      <td>...</td>\n",
              "      <td>...</td>\n",
              "      <td>...</td>\n",
              "      <td>...</td>\n",
              "      <td>...</td>\n",
              "      <td>...</td>\n",
              "      <td>...</td>\n",
              "      <td>...</td>\n",
              "      <td>...</td>\n",
              "    </tr>\n",
              "    <tr>\n",
              "      <th>3428</th>\n",
              "      <td>0.0</td>\n",
              "      <td>0.0</td>\n",
              "      <td>1.0</td>\n",
              "      <td>0.0</td>\n",
              "      <td>0.0</td>\n",
              "      <td>0.0</td>\n",
              "      <td>0.0</td>\n",
              "      <td>0.0</td>\n",
              "      <td>0.0</td>\n",
              "      <td>1.0</td>\n",
              "      <td>...</td>\n",
              "      <td>0.0</td>\n",
              "      <td>0.0</td>\n",
              "      <td>1.0</td>\n",
              "      <td>1.0</td>\n",
              "      <td>0.0</td>\n",
              "      <td>0.0</td>\n",
              "      <td>0.0</td>\n",
              "      <td>0.0</td>\n",
              "      <td>0.0</td>\n",
              "      <td>0.0</td>\n",
              "    </tr>\n",
              "    <tr>\n",
              "      <th>3576</th>\n",
              "      <td>0.0</td>\n",
              "      <td>0.0</td>\n",
              "      <td>1.0</td>\n",
              "      <td>0.0</td>\n",
              "      <td>0.0</td>\n",
              "      <td>0.0</td>\n",
              "      <td>0.0</td>\n",
              "      <td>0.0</td>\n",
              "      <td>0.0</td>\n",
              "      <td>1.0</td>\n",
              "      <td>...</td>\n",
              "      <td>0.0</td>\n",
              "      <td>1.0</td>\n",
              "      <td>0.0</td>\n",
              "      <td>1.0</td>\n",
              "      <td>0.0</td>\n",
              "      <td>0.0</td>\n",
              "      <td>0.0</td>\n",
              "      <td>0.0</td>\n",
              "      <td>0.0</td>\n",
              "      <td>0.0</td>\n",
              "    </tr>\n",
              "    <tr>\n",
              "      <th>1538</th>\n",
              "      <td>0.0</td>\n",
              "      <td>0.0</td>\n",
              "      <td>0.0</td>\n",
              "      <td>0.0</td>\n",
              "      <td>0.0</td>\n",
              "      <td>1.0</td>\n",
              "      <td>0.0</td>\n",
              "      <td>0.0</td>\n",
              "      <td>1.0</td>\n",
              "      <td>0.0</td>\n",
              "      <td>...</td>\n",
              "      <td>1.0</td>\n",
              "      <td>0.0</td>\n",
              "      <td>0.0</td>\n",
              "      <td>0.0</td>\n",
              "      <td>1.0</td>\n",
              "      <td>0.0</td>\n",
              "      <td>0.0</td>\n",
              "      <td>0.0</td>\n",
              "      <td>0.0</td>\n",
              "      <td>2.0</td>\n",
              "    </tr>\n",
              "    <tr>\n",
              "      <th>211</th>\n",
              "      <td>1.0</td>\n",
              "      <td>0.0</td>\n",
              "      <td>0.0</td>\n",
              "      <td>0.0</td>\n",
              "      <td>0.0</td>\n",
              "      <td>0.0</td>\n",
              "      <td>0.0</td>\n",
              "      <td>0.0</td>\n",
              "      <td>1.0</td>\n",
              "      <td>0.0</td>\n",
              "      <td>...</td>\n",
              "      <td>0.0</td>\n",
              "      <td>0.0</td>\n",
              "      <td>0.0</td>\n",
              "      <td>0.0</td>\n",
              "      <td>0.0</td>\n",
              "      <td>0.0</td>\n",
              "      <td>1.0</td>\n",
              "      <td>0.0</td>\n",
              "      <td>0.0</td>\n",
              "      <td>1.0</td>\n",
              "    </tr>\n",
              "    <tr>\n",
              "      <th>1340</th>\n",
              "      <td>0.0</td>\n",
              "      <td>0.0</td>\n",
              "      <td>0.0</td>\n",
              "      <td>0.0</td>\n",
              "      <td>0.0</td>\n",
              "      <td>1.0</td>\n",
              "      <td>0.0</td>\n",
              "      <td>0.0</td>\n",
              "      <td>1.0</td>\n",
              "      <td>0.0</td>\n",
              "      <td>...</td>\n",
              "      <td>0.0</td>\n",
              "      <td>0.0</td>\n",
              "      <td>0.0</td>\n",
              "      <td>0.0</td>\n",
              "      <td>1.0</td>\n",
              "      <td>0.0</td>\n",
              "      <td>0.0</td>\n",
              "      <td>0.0</td>\n",
              "      <td>0.0</td>\n",
              "      <td>2.0</td>\n",
              "    </tr>\n",
              "  </tbody>\n",
              "</table>\n",
              "<p>1694 rows × 95 columns</p>\n",
              "</div>\n",
              "      <button class=\"colab-df-convert\" onclick=\"convertToInteractive('df-660997d0-98bc-4999-9c17-c90b5bc3789c')\"\n",
              "              title=\"Convert this dataframe to an interactive table.\"\n",
              "              style=\"display:none;\">\n",
              "        \n",
              "  <svg xmlns=\"http://www.w3.org/2000/svg\" height=\"24px\"viewBox=\"0 0 24 24\"\n",
              "       width=\"24px\">\n",
              "    <path d=\"M0 0h24v24H0V0z\" fill=\"none\"/>\n",
              "    <path d=\"M18.56 5.44l.94 2.06.94-2.06 2.06-.94-2.06-.94-.94-2.06-.94 2.06-2.06.94zm-11 1L8.5 8.5l.94-2.06 2.06-.94-2.06-.94L8.5 2.5l-.94 2.06-2.06.94zm10 10l.94 2.06.94-2.06 2.06-.94-2.06-.94-.94-2.06-.94 2.06-2.06.94z\"/><path d=\"M17.41 7.96l-1.37-1.37c-.4-.4-.92-.59-1.43-.59-.52 0-1.04.2-1.43.59L10.3 9.45l-7.72 7.72c-.78.78-.78 2.05 0 2.83L4 21.41c.39.39.9.59 1.41.59.51 0 1.02-.2 1.41-.59l7.78-7.78 2.81-2.81c.8-.78.8-2.07 0-2.86zM5.41 20L4 18.59l7.72-7.72 1.47 1.35L5.41 20z\"/>\n",
              "  </svg>\n",
              "      </button>\n",
              "      \n",
              "  <style>\n",
              "    .colab-df-container {\n",
              "      display:flex;\n",
              "      flex-wrap:wrap;\n",
              "      gap: 12px;\n",
              "    }\n",
              "\n",
              "    .colab-df-convert {\n",
              "      background-color: #E8F0FE;\n",
              "      border: none;\n",
              "      border-radius: 50%;\n",
              "      cursor: pointer;\n",
              "      display: none;\n",
              "      fill: #1967D2;\n",
              "      height: 32px;\n",
              "      padding: 0 0 0 0;\n",
              "      width: 32px;\n",
              "    }\n",
              "\n",
              "    .colab-df-convert:hover {\n",
              "      background-color: #E2EBFA;\n",
              "      box-shadow: 0px 1px 2px rgba(60, 64, 67, 0.3), 0px 1px 3px 1px rgba(60, 64, 67, 0.15);\n",
              "      fill: #174EA6;\n",
              "    }\n",
              "\n",
              "    [theme=dark] .colab-df-convert {\n",
              "      background-color: #3B4455;\n",
              "      fill: #D2E3FC;\n",
              "    }\n",
              "\n",
              "    [theme=dark] .colab-df-convert:hover {\n",
              "      background-color: #434B5C;\n",
              "      box-shadow: 0px 1px 3px 1px rgba(0, 0, 0, 0.15);\n",
              "      filter: drop-shadow(0px 1px 2px rgba(0, 0, 0, 0.3));\n",
              "      fill: #FFFFFF;\n",
              "    }\n",
              "  </style>\n",
              "\n",
              "      <script>\n",
              "        const buttonEl =\n",
              "          document.querySelector('#df-660997d0-98bc-4999-9c17-c90b5bc3789c button.colab-df-convert');\n",
              "        buttonEl.style.display =\n",
              "          google.colab.kernel.accessAllowed ? 'block' : 'none';\n",
              "\n",
              "        async function convertToInteractive(key) {\n",
              "          const element = document.querySelector('#df-660997d0-98bc-4999-9c17-c90b5bc3789c');\n",
              "          const dataTable =\n",
              "            await google.colab.kernel.invokeFunction('convertToInteractive',\n",
              "                                                     [key], {});\n",
              "          if (!dataTable) return;\n",
              "\n",
              "          const docLinkHtml = 'Like what you see? Visit the ' +\n",
              "            '<a target=\"_blank\" href=https://colab.research.google.com/notebooks/data_table.ipynb>data table notebook</a>'\n",
              "            + ' to learn more about interactive tables.';\n",
              "          element.innerHTML = '';\n",
              "          dataTable['output_type'] = 'display_data';\n",
              "          await google.colab.output.renderOutput(dataTable, element);\n",
              "          const docLink = document.createElement('div');\n",
              "          docLink.innerHTML = docLinkHtml;\n",
              "          element.appendChild(docLink);\n",
              "        }\n",
              "      </script>\n",
              "    </div>\n",
              "  </div>\n",
              "  "
            ]
          },
          "metadata": {},
          "execution_count": 256
        }
      ]
    },
    {
      "cell_type": "markdown",
      "source": [
        "####**Train a LogisticRegression**"
      ],
      "metadata": {
        "id": "gUfhak6XA0PR"
      }
    },
    {
      "cell_type": "markdown",
      "source": [
        "Doing the same with the logistic regression "
      ],
      "metadata": {
        "id": "PUjuzDspGS5M"
      }
    },
    {
      "cell_type": "code",
      "source": [
        "%%time\n",
        "from sklearn.linear_model import LogisticRegression\n",
        "\n",
        "log_reg = LogisticRegression()\n",
        "log_reg.fit(X_train,y_train)\n"
      ],
      "metadata": {
        "id": "uETJ8tQMA8Wp",
        "colab": {
          "base_uri": "https://localhost:8080/"
        },
        "outputId": "b5193872-5532-42e2-c799-40ba117cd506"
      },
      "execution_count": null,
      "outputs": [
        {
          "output_type": "stream",
          "name": "stdout",
          "text": [
            "CPU times: user 118 ms, sys: 65.9 ms, total: 184 ms\n",
            "Wall time: 120 ms\n"
          ]
        },
        {
          "output_type": "execute_result",
          "data": {
            "text/plain": [
              "LogisticRegression()"
            ]
          },
          "metadata": {},
          "execution_count": 257
        }
      ]
    },
    {
      "cell_type": "markdown",
      "source": [
        "**Pred with our model**"
      ],
      "metadata": {
        "id": "inMmenfUosk9"
      }
    },
    {
      "cell_type": "code",
      "source": [
        "y_pred_lr = log_reg.predict(X_test)"
      ],
      "metadata": {
        "id": "Lly1y4P3BBnH"
      },
      "execution_count": null,
      "outputs": []
    },
    {
      "cell_type": "markdown",
      "source": [
        "####**accuracy, precision, and recall scores**"
      ],
      "metadata": {
        "id": "fxDPmtByshIE"
      }
    },
    {
      "cell_type": "markdown",
      "source": [
        "5. Compute the accuracy, precision, and recall scores for a test set. Briefly discuss the\n",
        "performance of your models in terms of these values."
      ],
      "metadata": {
        "id": "peDk9RbqsUK7"
      }
    },
    {
      "cell_type": "code",
      "source": [
        "#prepare models\n",
        "Regressor = [\n",
        "    LogisticRegression(),\n",
        "    RandomForestClassifier(n_estimators = 100)]"
      ],
      "metadata": {
        "id": "V4l0DAvPuA_l"
      },
      "execution_count": null,
      "outputs": []
    },
    {
      "cell_type": "code",
      "source": [
        "from sklearn.metrics import confusion_matrix, accuracy_score \n",
        "from sklearn.metrics import f1_score, precision_score, recall_score, fbeta_score\n",
        "from sklearn.metrics import make_scorer, recall_score, log_loss"
      ],
      "metadata": {
        "id": "_u_RMupCri3d"
      },
      "execution_count": null,
      "outputs": []
    },
    {
      "cell_type": "code",
      "source": [
        "log_cols=[\"Regressor\", \"Accuracy\", \"Log Loss\"]\n",
        "log = pd.DataFrame(columns = log_cols)\n",
        "\n",
        "for clf in Regressor:\n",
        "    clf.fit(X_train, y_train)\n",
        "    name = clf.__class__.__name__\n",
        "    print(\"=\" * 30)\n",
        "    print(name)\n",
        "    print('****Results****')\n",
        "    \n",
        "    train_predictions = clf.predict(X_test)\n",
        "    acc = accuracy_score(y_test, train_predictions)\n",
        "    print(\"Accuracy: {:.4%}\".format(acc))\n",
        "    \n",
        "    train_predictions = clf.predict(X_test)\n",
        "    ll = log_loss(y_test, train_predictions)\n",
        "    print(\"Log Loss: {}\".format(ll))\n",
        "    print(\"\\n\")\n",
        "    \n",
        "    log_entry = pd.DataFrame([[name, acc * 100, ll]], columns = log_cols)\n",
        "    log = log.append(log_entry)\n",
        "    \n",
        "print(\"=\" * 30)"
      ],
      "metadata": {
        "colab": {
          "base_uri": "https://localhost:8080/"
        },
        "id": "0s2StBpLuYv7",
        "outputId": "3c126848-2a03-4433-a15f-170e9db4cfca"
      },
      "execution_count": null,
      "outputs": [
        {
          "output_type": "stream",
          "name": "stdout",
          "text": [
            "==============================\n",
            "LogisticRegression\n",
            "****Results****\n",
            "Accuracy: 100.0000%\n",
            "Log Loss: 9.992007221626413e-16\n",
            "\n",
            "\n",
            "==============================\n",
            "RandomForestClassifier\n",
            "****Results****\n",
            "Accuracy: 100.0000%\n",
            "Log Loss: 9.992007221626413e-16\n",
            "\n",
            "\n",
            "==============================\n"
          ]
        }
      ]
    },
    {
      "cell_type": "markdown",
      "source": [
        "##**PCA**"
      ],
      "metadata": {
        "id": "kog7SUHo1ig_"
      }
    },
    {
      "cell_type": "code",
      "source": [
        "#Check the Co-relation between features without PCA\n",
        "#sns.heatmap(X.corr())\n",
        "#Applying PCA\n",
        "#Taking no. of Principal Components as 3\n",
        "from sklearn.decomposition import PCA\n",
        "pca = PCA(n_components = 0.95,random_state=42)\n",
        "pca.fit(X)\n",
        "pca_data = pca.transform(X)\n",
        "pca_columns = ['PC'+str(i+1) for i in range(pca_data.shape[1])] # create column names from pca_data\n",
        "df_pca = pd.DataFrame(pca_data,columns=pca_columns)\n",
        "df_pca.head()"
      ],
      "metadata": {
        "colab": {
          "base_uri": "https://localhost:8080/",
          "height": 386
        },
        "id": "uy17JsRW1l74",
        "outputId": "79869476-0acc-45d7-bc60-8abe5a68ee59"
      },
      "execution_count": null,
      "outputs": [
        {
          "output_type": "execute_result",
          "data": {
            "text/plain": [
              "        PC1       PC2       PC3       PC4       PC5       PC6       PC7  \\\n",
              "0 -1.576543  1.091614 -1.701929 -0.403847 -0.434055  0.548515  0.803155   \n",
              "1 -0.954724  0.643852 -1.529768 -0.392295 -0.135108 -0.643373 -0.708905   \n",
              "2 -1.168747  0.385583 -1.666157 -0.230168  0.430590 -0.215522 -0.663655   \n",
              "3 -1.471939  0.920828 -1.939439 -0.068392 -0.664457  0.500559  0.738315   \n",
              "4 -1.432947  1.979300  1.258458 -0.399312 -0.504507 -0.453058 -0.723235   \n",
              "\n",
              "        PC8       PC9      PC10  ...      PC24      PC25      PC26      PC27  \\\n",
              "0 -0.229099 -0.477424  0.765912  ... -0.045587  0.110488  0.010206  0.194444   \n",
              "1 -0.535166 -0.162625 -0.642925  ...  0.159069  0.099999  0.308564  0.309569   \n",
              "2 -0.725583  0.412901 -0.637471  ...  0.112663 -0.660698  0.185583  0.179146   \n",
              "3  0.182440 -0.038410  0.759777  ... -0.239954  0.009505 -0.165015  0.105406   \n",
              "4  0.296941  0.375556  0.283121  ...  0.005679  0.036652 -0.211810 -0.238077   \n",
              "\n",
              "       PC28      PC29      PC30          PC31      PC32      PC33  \n",
              "0 -0.225222  0.438493  0.015333  4.059768e-15 -0.607218  0.170389  \n",
              "1 -0.049249  0.027969  0.105920  7.071068e-01 -0.624161 -0.096954  \n",
              "2 -0.183854  0.246659 -0.027303 -7.071068e-01  0.049429 -0.407515  \n",
              "3 -0.106291  0.275856  0.087287  1.138494e-15  0.027298  0.434757  \n",
              "4  0.003676  0.158747 -0.271895  2.929596e-15 -0.684095  0.243574  \n",
              "\n",
              "[5 rows x 33 columns]"
            ],
            "text/html": [
              "\n",
              "  <div id=\"df-666dde73-6224-45ee-975b-008e6b0cb5ce\">\n",
              "    <div class=\"colab-df-container\">\n",
              "      <div>\n",
              "<style scoped>\n",
              "    .dataframe tbody tr th:only-of-type {\n",
              "        vertical-align: middle;\n",
              "    }\n",
              "\n",
              "    .dataframe tbody tr th {\n",
              "        vertical-align: top;\n",
              "    }\n",
              "\n",
              "    .dataframe thead th {\n",
              "        text-align: right;\n",
              "    }\n",
              "</style>\n",
              "<table border=\"1\" class=\"dataframe\">\n",
              "  <thead>\n",
              "    <tr style=\"text-align: right;\">\n",
              "      <th></th>\n",
              "      <th>PC1</th>\n",
              "      <th>PC2</th>\n",
              "      <th>PC3</th>\n",
              "      <th>PC4</th>\n",
              "      <th>PC5</th>\n",
              "      <th>PC6</th>\n",
              "      <th>PC7</th>\n",
              "      <th>PC8</th>\n",
              "      <th>PC9</th>\n",
              "      <th>PC10</th>\n",
              "      <th>...</th>\n",
              "      <th>PC24</th>\n",
              "      <th>PC25</th>\n",
              "      <th>PC26</th>\n",
              "      <th>PC27</th>\n",
              "      <th>PC28</th>\n",
              "      <th>PC29</th>\n",
              "      <th>PC30</th>\n",
              "      <th>PC31</th>\n",
              "      <th>PC32</th>\n",
              "      <th>PC33</th>\n",
              "    </tr>\n",
              "  </thead>\n",
              "  <tbody>\n",
              "    <tr>\n",
              "      <th>0</th>\n",
              "      <td>-1.576543</td>\n",
              "      <td>1.091614</td>\n",
              "      <td>-1.701929</td>\n",
              "      <td>-0.403847</td>\n",
              "      <td>-0.434055</td>\n",
              "      <td>0.548515</td>\n",
              "      <td>0.803155</td>\n",
              "      <td>-0.229099</td>\n",
              "      <td>-0.477424</td>\n",
              "      <td>0.765912</td>\n",
              "      <td>...</td>\n",
              "      <td>-0.045587</td>\n",
              "      <td>0.110488</td>\n",
              "      <td>0.010206</td>\n",
              "      <td>0.194444</td>\n",
              "      <td>-0.225222</td>\n",
              "      <td>0.438493</td>\n",
              "      <td>0.015333</td>\n",
              "      <td>4.059768e-15</td>\n",
              "      <td>-0.607218</td>\n",
              "      <td>0.170389</td>\n",
              "    </tr>\n",
              "    <tr>\n",
              "      <th>1</th>\n",
              "      <td>-0.954724</td>\n",
              "      <td>0.643852</td>\n",
              "      <td>-1.529768</td>\n",
              "      <td>-0.392295</td>\n",
              "      <td>-0.135108</td>\n",
              "      <td>-0.643373</td>\n",
              "      <td>-0.708905</td>\n",
              "      <td>-0.535166</td>\n",
              "      <td>-0.162625</td>\n",
              "      <td>-0.642925</td>\n",
              "      <td>...</td>\n",
              "      <td>0.159069</td>\n",
              "      <td>0.099999</td>\n",
              "      <td>0.308564</td>\n",
              "      <td>0.309569</td>\n",
              "      <td>-0.049249</td>\n",
              "      <td>0.027969</td>\n",
              "      <td>0.105920</td>\n",
              "      <td>7.071068e-01</td>\n",
              "      <td>-0.624161</td>\n",
              "      <td>-0.096954</td>\n",
              "    </tr>\n",
              "    <tr>\n",
              "      <th>2</th>\n",
              "      <td>-1.168747</td>\n",
              "      <td>0.385583</td>\n",
              "      <td>-1.666157</td>\n",
              "      <td>-0.230168</td>\n",
              "      <td>0.430590</td>\n",
              "      <td>-0.215522</td>\n",
              "      <td>-0.663655</td>\n",
              "      <td>-0.725583</td>\n",
              "      <td>0.412901</td>\n",
              "      <td>-0.637471</td>\n",
              "      <td>...</td>\n",
              "      <td>0.112663</td>\n",
              "      <td>-0.660698</td>\n",
              "      <td>0.185583</td>\n",
              "      <td>0.179146</td>\n",
              "      <td>-0.183854</td>\n",
              "      <td>0.246659</td>\n",
              "      <td>-0.027303</td>\n",
              "      <td>-7.071068e-01</td>\n",
              "      <td>0.049429</td>\n",
              "      <td>-0.407515</td>\n",
              "    </tr>\n",
              "    <tr>\n",
              "      <th>3</th>\n",
              "      <td>-1.471939</td>\n",
              "      <td>0.920828</td>\n",
              "      <td>-1.939439</td>\n",
              "      <td>-0.068392</td>\n",
              "      <td>-0.664457</td>\n",
              "      <td>0.500559</td>\n",
              "      <td>0.738315</td>\n",
              "      <td>0.182440</td>\n",
              "      <td>-0.038410</td>\n",
              "      <td>0.759777</td>\n",
              "      <td>...</td>\n",
              "      <td>-0.239954</td>\n",
              "      <td>0.009505</td>\n",
              "      <td>-0.165015</td>\n",
              "      <td>0.105406</td>\n",
              "      <td>-0.106291</td>\n",
              "      <td>0.275856</td>\n",
              "      <td>0.087287</td>\n",
              "      <td>1.138494e-15</td>\n",
              "      <td>0.027298</td>\n",
              "      <td>0.434757</td>\n",
              "    </tr>\n",
              "    <tr>\n",
              "      <th>4</th>\n",
              "      <td>-1.432947</td>\n",
              "      <td>1.979300</td>\n",
              "      <td>1.258458</td>\n",
              "      <td>-0.399312</td>\n",
              "      <td>-0.504507</td>\n",
              "      <td>-0.453058</td>\n",
              "      <td>-0.723235</td>\n",
              "      <td>0.296941</td>\n",
              "      <td>0.375556</td>\n",
              "      <td>0.283121</td>\n",
              "      <td>...</td>\n",
              "      <td>0.005679</td>\n",
              "      <td>0.036652</td>\n",
              "      <td>-0.211810</td>\n",
              "      <td>-0.238077</td>\n",
              "      <td>0.003676</td>\n",
              "      <td>0.158747</td>\n",
              "      <td>-0.271895</td>\n",
              "      <td>2.929596e-15</td>\n",
              "      <td>-0.684095</td>\n",
              "      <td>0.243574</td>\n",
              "    </tr>\n",
              "  </tbody>\n",
              "</table>\n",
              "<p>5 rows × 33 columns</p>\n",
              "</div>\n",
              "      <button class=\"colab-df-convert\" onclick=\"convertToInteractive('df-666dde73-6224-45ee-975b-008e6b0cb5ce')\"\n",
              "              title=\"Convert this dataframe to an interactive table.\"\n",
              "              style=\"display:none;\">\n",
              "        \n",
              "  <svg xmlns=\"http://www.w3.org/2000/svg\" height=\"24px\"viewBox=\"0 0 24 24\"\n",
              "       width=\"24px\">\n",
              "    <path d=\"M0 0h24v24H0V0z\" fill=\"none\"/>\n",
              "    <path d=\"M18.56 5.44l.94 2.06.94-2.06 2.06-.94-2.06-.94-.94-2.06-.94 2.06-2.06.94zm-11 1L8.5 8.5l.94-2.06 2.06-.94-2.06-.94L8.5 2.5l-.94 2.06-2.06.94zm10 10l.94 2.06.94-2.06 2.06-.94-2.06-.94-.94-2.06-.94 2.06-2.06.94z\"/><path d=\"M17.41 7.96l-1.37-1.37c-.4-.4-.92-.59-1.43-.59-.52 0-1.04.2-1.43.59L10.3 9.45l-7.72 7.72c-.78.78-.78 2.05 0 2.83L4 21.41c.39.39.9.59 1.41.59.51 0 1.02-.2 1.41-.59l7.78-7.78 2.81-2.81c.8-.78.8-2.07 0-2.86zM5.41 20L4 18.59l7.72-7.72 1.47 1.35L5.41 20z\"/>\n",
              "  </svg>\n",
              "      </button>\n",
              "      \n",
              "  <style>\n",
              "    .colab-df-container {\n",
              "      display:flex;\n",
              "      flex-wrap:wrap;\n",
              "      gap: 12px;\n",
              "    }\n",
              "\n",
              "    .colab-df-convert {\n",
              "      background-color: #E8F0FE;\n",
              "      border: none;\n",
              "      border-radius: 50%;\n",
              "      cursor: pointer;\n",
              "      display: none;\n",
              "      fill: #1967D2;\n",
              "      height: 32px;\n",
              "      padding: 0 0 0 0;\n",
              "      width: 32px;\n",
              "    }\n",
              "\n",
              "    .colab-df-convert:hover {\n",
              "      background-color: #E2EBFA;\n",
              "      box-shadow: 0px 1px 2px rgba(60, 64, 67, 0.3), 0px 1px 3px 1px rgba(60, 64, 67, 0.15);\n",
              "      fill: #174EA6;\n",
              "    }\n",
              "\n",
              "    [theme=dark] .colab-df-convert {\n",
              "      background-color: #3B4455;\n",
              "      fill: #D2E3FC;\n",
              "    }\n",
              "\n",
              "    [theme=dark] .colab-df-convert:hover {\n",
              "      background-color: #434B5C;\n",
              "      box-shadow: 0px 1px 3px 1px rgba(0, 0, 0, 0.15);\n",
              "      filter: drop-shadow(0px 1px 2px rgba(0, 0, 0, 0.3));\n",
              "      fill: #FFFFFF;\n",
              "    }\n",
              "  </style>\n",
              "\n",
              "      <script>\n",
              "        const buttonEl =\n",
              "          document.querySelector('#df-666dde73-6224-45ee-975b-008e6b0cb5ce button.colab-df-convert');\n",
              "        buttonEl.style.display =\n",
              "          google.colab.kernel.accessAllowed ? 'block' : 'none';\n",
              "\n",
              "        async function convertToInteractive(key) {\n",
              "          const element = document.querySelector('#df-666dde73-6224-45ee-975b-008e6b0cb5ce');\n",
              "          const dataTable =\n",
              "            await google.colab.kernel.invokeFunction('convertToInteractive',\n",
              "                                                     [key], {});\n",
              "          if (!dataTable) return;\n",
              "\n",
              "          const docLinkHtml = 'Like what you see? Visit the ' +\n",
              "            '<a target=\"_blank\" href=https://colab.research.google.com/notebooks/data_table.ipynb>data table notebook</a>'\n",
              "            + ' to learn more about interactive tables.';\n",
              "          element.innerHTML = '';\n",
              "          dataTable['output_type'] = 'display_data';\n",
              "          await google.colab.output.renderOutput(dataTable, element);\n",
              "          const docLink = document.createElement('div');\n",
              "          docLink.innerHTML = docLinkHtml;\n",
              "          element.appendChild(docLink);\n",
              "        }\n",
              "      </script>\n",
              "    </div>\n",
              "  </div>\n",
              "  "
            ]
          },
          "metadata": {},
          "execution_count": 262
        }
      ]
    },
    {
      "cell_type": "markdown",
      "source": [
        "##**Second Models**"
      ],
      "metadata": {
        "id": "e561h_-j5ks8"
      }
    },
    {
      "cell_type": "markdown",
      "source": [
        "Train two new models, a RandomForestClassifier and a LogisticRegression model,\n",
        "on this reduced dataset to predict whether a mushroom is edible or not. Again, time the\n",
        "training of these two models on the reduced dataset. You will again use the default\n",
        "hyperparameter values for both models, with a random state parameter of 42 for the\n",
        "RandomForestClassifier."
      ],
      "metadata": {
        "id": "UphCeGo95rMI"
      }
    },
    {
      "cell_type": "code",
      "source": [
        "%%time\n",
        "# creating a RF classifier\n",
        "Xpca_train, Xpca_test, y_train, y_test = train_test_split(df_pca, y, test_size = 0.30,random_state=42)\n",
        "RF_pca = RandomForestClassifier(n_estimators = 100) \n",
        "# Training the model on the training dataset\n",
        "# fitting RF classifier on traning data set\n",
        "RF_pca.fit(Xpca_train, y_train)\n",
        "# perform predictions on the test dataset\n",
        "y_pred_RF_pca = RF_pca.predict(Xpca_test)\n",
        "# calculate accuracy of the model\n",
        "print(\"accuracy of the RF model: \", metrics.accuracy_score(y_test, y_pred_RF_pca))\n",
        "Matrices = metrics.precision_recall_fscore_support(y_test, y_pred_RF_pca,average='macro')\n",
        "print(\"precisio of the RF model: \", Matrices[0])\n",
        "print(\"Recall of the RF model: \", Matrices[1])"
      ],
      "metadata": {
        "colab": {
          "base_uri": "https://localhost:8080/"
        },
        "id": "WsPvGsbx90SY",
        "outputId": "1c9491a7-9097-46cd-b7bd-2afd0eab8087"
      },
      "execution_count": null,
      "outputs": [
        {
          "output_type": "stream",
          "name": "stdout",
          "text": [
            "accuracy of the RF model:  1.0\n",
            "precisio of the RF model:  1.0\n",
            "Recall of the RF model:  1.0\n",
            "CPU times: user 1.43 s, sys: 42.8 ms, total: 1.48 s\n",
            "Wall time: 1.44 s\n"
          ]
        }
      ]
    },
    {
      "cell_type": "code",
      "source": [
        "%%time\n",
        "# build a LogisticRegression model\n",
        "# all parameters not specified are set to their defaults\n",
        "lr_pca = LogisticRegression()\n",
        "# fit logisticRegression model\n",
        "lr_pca.fit(Xpca_train, y_train)\n",
        "# predictions on test data \n",
        "y_pred_lr_pca = lr_pca.predict(Xpca_test)\n",
        "# calculate accuracy of the model\n",
        "print(\"accuracy of the logisticRegression model: \", metrics.accuracy_score(y_test, y_pred_lr_pca))\n",
        "Matrices = metrics.precision_recall_fscore_support(y_test, y_pred_lr_pca,average='macro')\n",
        "print(\"precisio of the LogRe model: \", Matrices[0])\n",
        "print(\"Recall of the logRe model: \", Matrices[1])"
      ],
      "metadata": {
        "colab": {
          "base_uri": "https://localhost:8080/"
        },
        "id": "xGPnCCPs16hS",
        "outputId": "e9bc7220-4b3b-4dbd-a4a2-1f9d27b72dbc"
      },
      "execution_count": null,
      "outputs": [
        {
          "output_type": "stream",
          "name": "stdout",
          "text": [
            "accuracy of the logisticRegression model:  0.999409681227863\n",
            "precisio of the LogRe model:  0.9995278564683664\n",
            "Recall of the logRe model:  0.9992138364779874\n",
            "CPU times: user 67.2 ms, sys: 56.1 ms, total: 123 ms\n",
            "Wall time: 73.3 ms\n"
          ]
        }
      ]
    },
    {
      "cell_type": "code",
      "source": [],
      "metadata": {
        "id": "8MEahBVE9Wej"
      },
      "execution_count": null,
      "outputs": []
    }
  ]
}